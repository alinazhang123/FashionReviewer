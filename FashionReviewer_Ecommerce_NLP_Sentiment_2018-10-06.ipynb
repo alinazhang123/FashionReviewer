{
 "cells": [
  {
   "cell_type": "markdown",
   "metadata": {},
   "source": [
    "# FashionReviewer Python Code"
   ]
  },
  {
   "cell_type": "markdown",
   "metadata": {},
   "source": [
    "## By Jingting Zhang, Oct 8, 2018"
   ]
  },
  {
   "cell_type": "code",
   "execution_count": 45,
   "metadata": {
    "scrolled": false
   },
   "outputs": [],
   "source": [
    "# Load Libraries\n",
    "import pandas as pd\n",
    "import numpy as np\n",
    "import seaborn as sns\n",
    "import matplotlib.pyplot as plt\n",
    "import keras\n",
    "import tensorflow\n",
    "\n",
    "%matplotlib inline\n",
    "import nltk\n",
    "import nltk.classify.util\n",
    "from nltk.classify import NaiveBayesClassifier\n",
    "from nltk.corpus import stopwords\n",
    "from nltk.tokenize import word_tokenize\n",
    "import string\n",
    "from nltk.tokenize import RegexpTokenizer\n",
    "import statsmodels.api as sm\n",
    "from nltk.sentiment.vader import SentimentIntensityAnalyzer\n",
    "from nltk.sentiment.util import *\n",
    "import re\n",
    "from nltk.stem.lancaster import LancasterStemmer\n",
    "from nltk.stem.porter import PorterStemmer\n",
    "\n",
    "from keras.preprocessing.text import Tokenizer\n",
    "from keras.preprocessing.sequence import pad_sequences\n",
    "from keras.models import Sequential\n",
    "from keras.layers import Embedding, Flatten, Dense, SimpleRNN\n",
    "\n",
    "import os"
   ]
  },
  {
   "cell_type": "markdown",
   "metadata": {},
   "source": [
    "### and so on"
   ]
  },
  {
   "cell_type": "markdown",
   "metadata": {},
   "source": [
    "## Data Import & Visualization"
   ]
  },
  {
   "cell_type": "code",
   "execution_count": 47,
   "metadata": {},
   "outputs": [
    {
     "data": {
      "text/html": [
       "<div>\n",
       "<style scoped>\n",
       "    .dataframe tbody tr th:only-of-type {\n",
       "        vertical-align: middle;\n",
       "    }\n",
       "\n",
       "    .dataframe tbody tr th {\n",
       "        vertical-align: top;\n",
       "    }\n",
       "\n",
       "    .dataframe thead th {\n",
       "        text-align: right;\n",
       "    }\n",
       "</style>\n",
       "<table border=\"1\" class=\"dataframe\">\n",
       "  <thead>\n",
       "    <tr style=\"text-align: right;\">\n",
       "      <th></th>\n",
       "      <th>Unnamed: 0</th>\n",
       "      <th>Clothing ID</th>\n",
       "      <th>Age</th>\n",
       "      <th>Title</th>\n",
       "      <th>Review Text</th>\n",
       "      <th>Rating</th>\n",
       "      <th>Recommended IND</th>\n",
       "      <th>Positive Feedback Count</th>\n",
       "      <th>Division Name</th>\n",
       "      <th>Department Name</th>\n",
       "      <th>Class Name</th>\n",
       "    </tr>\n",
       "  </thead>\n",
       "  <tbody>\n",
       "    <tr>\n",
       "      <th>0</th>\n",
       "      <td>0</td>\n",
       "      <td>767</td>\n",
       "      <td>33</td>\n",
       "      <td>NaN</td>\n",
       "      <td>Absolutely wonderful - silky and sexy and comf...</td>\n",
       "      <td>4</td>\n",
       "      <td>1</td>\n",
       "      <td>0</td>\n",
       "      <td>Initmates</td>\n",
       "      <td>Intimate</td>\n",
       "      <td>Intimates</td>\n",
       "    </tr>\n",
       "    <tr>\n",
       "      <th>1</th>\n",
       "      <td>1</td>\n",
       "      <td>1080</td>\n",
       "      <td>34</td>\n",
       "      <td>NaN</td>\n",
       "      <td>Love this dress!  it's sooo pretty.  i happene...</td>\n",
       "      <td>5</td>\n",
       "      <td>1</td>\n",
       "      <td>4</td>\n",
       "      <td>General</td>\n",
       "      <td>Dresses</td>\n",
       "      <td>Dresses</td>\n",
       "    </tr>\n",
       "    <tr>\n",
       "      <th>2</th>\n",
       "      <td>2</td>\n",
       "      <td>1077</td>\n",
       "      <td>60</td>\n",
       "      <td>Some major design flaws</td>\n",
       "      <td>I had such high hopes for this dress and reall...</td>\n",
       "      <td>3</td>\n",
       "      <td>0</td>\n",
       "      <td>0</td>\n",
       "      <td>General</td>\n",
       "      <td>Dresses</td>\n",
       "      <td>Dresses</td>\n",
       "    </tr>\n",
       "    <tr>\n",
       "      <th>3</th>\n",
       "      <td>3</td>\n",
       "      <td>1049</td>\n",
       "      <td>50</td>\n",
       "      <td>My favorite buy!</td>\n",
       "      <td>I love, love, love this jumpsuit. it's fun, fl...</td>\n",
       "      <td>5</td>\n",
       "      <td>1</td>\n",
       "      <td>0</td>\n",
       "      <td>General Petite</td>\n",
       "      <td>Bottoms</td>\n",
       "      <td>Pants</td>\n",
       "    </tr>\n",
       "    <tr>\n",
       "      <th>4</th>\n",
       "      <td>4</td>\n",
       "      <td>847</td>\n",
       "      <td>47</td>\n",
       "      <td>Flattering shirt</td>\n",
       "      <td>This shirt is very flattering to all due to th...</td>\n",
       "      <td>5</td>\n",
       "      <td>1</td>\n",
       "      <td>6</td>\n",
       "      <td>General</td>\n",
       "      <td>Tops</td>\n",
       "      <td>Blouses</td>\n",
       "    </tr>\n",
       "    <tr>\n",
       "      <th>5</th>\n",
       "      <td>5</td>\n",
       "      <td>1080</td>\n",
       "      <td>49</td>\n",
       "      <td>Not for the very petite</td>\n",
       "      <td>I love tracy reese dresses, but this one is no...</td>\n",
       "      <td>2</td>\n",
       "      <td>0</td>\n",
       "      <td>4</td>\n",
       "      <td>General</td>\n",
       "      <td>Dresses</td>\n",
       "      <td>Dresses</td>\n",
       "    </tr>\n",
       "    <tr>\n",
       "      <th>6</th>\n",
       "      <td>6</td>\n",
       "      <td>858</td>\n",
       "      <td>39</td>\n",
       "      <td>Cagrcoal shimmer fun</td>\n",
       "      <td>I aded this in my basket at hte last mintue to...</td>\n",
       "      <td>5</td>\n",
       "      <td>1</td>\n",
       "      <td>1</td>\n",
       "      <td>General Petite</td>\n",
       "      <td>Tops</td>\n",
       "      <td>Knits</td>\n",
       "    </tr>\n",
       "    <tr>\n",
       "      <th>7</th>\n",
       "      <td>7</td>\n",
       "      <td>858</td>\n",
       "      <td>39</td>\n",
       "      <td>Shimmer, surprisingly goes with lots</td>\n",
       "      <td>I ordered this in carbon for store pick up, an...</td>\n",
       "      <td>4</td>\n",
       "      <td>1</td>\n",
       "      <td>4</td>\n",
       "      <td>General Petite</td>\n",
       "      <td>Tops</td>\n",
       "      <td>Knits</td>\n",
       "    </tr>\n",
       "    <tr>\n",
       "      <th>8</th>\n",
       "      <td>8</td>\n",
       "      <td>1077</td>\n",
       "      <td>24</td>\n",
       "      <td>Flattering</td>\n",
       "      <td>I love this dress. i usually get an xs but it ...</td>\n",
       "      <td>5</td>\n",
       "      <td>1</td>\n",
       "      <td>0</td>\n",
       "      <td>General</td>\n",
       "      <td>Dresses</td>\n",
       "      <td>Dresses</td>\n",
       "    </tr>\n",
       "    <tr>\n",
       "      <th>9</th>\n",
       "      <td>9</td>\n",
       "      <td>1077</td>\n",
       "      <td>34</td>\n",
       "      <td>Such a fun dress!</td>\n",
       "      <td>I'm 5\"5' and 125 lbs. i ordered the s petite t...</td>\n",
       "      <td>5</td>\n",
       "      <td>1</td>\n",
       "      <td>0</td>\n",
       "      <td>General</td>\n",
       "      <td>Dresses</td>\n",
       "      <td>Dresses</td>\n",
       "    </tr>\n",
       "  </tbody>\n",
       "</table>\n",
       "</div>"
      ],
      "text/plain": [
       "   Unnamed: 0  Clothing ID  Age                                 Title  \\\n",
       "0           0          767   33                                   NaN   \n",
       "1           1         1080   34                                   NaN   \n",
       "2           2         1077   60               Some major design flaws   \n",
       "3           3         1049   50                      My favorite buy!   \n",
       "4           4          847   47                      Flattering shirt   \n",
       "5           5         1080   49               Not for the very petite   \n",
       "6           6          858   39                  Cagrcoal shimmer fun   \n",
       "7           7          858   39  Shimmer, surprisingly goes with lots   \n",
       "8           8         1077   24                            Flattering   \n",
       "9           9         1077   34                     Such a fun dress!   \n",
       "\n",
       "                                         Review Text  Rating  Recommended IND  \\\n",
       "0  Absolutely wonderful - silky and sexy and comf...       4                1   \n",
       "1  Love this dress!  it's sooo pretty.  i happene...       5                1   \n",
       "2  I had such high hopes for this dress and reall...       3                0   \n",
       "3  I love, love, love this jumpsuit. it's fun, fl...       5                1   \n",
       "4  This shirt is very flattering to all due to th...       5                1   \n",
       "5  I love tracy reese dresses, but this one is no...       2                0   \n",
       "6  I aded this in my basket at hte last mintue to...       5                1   \n",
       "7  I ordered this in carbon for store pick up, an...       4                1   \n",
       "8  I love this dress. i usually get an xs but it ...       5                1   \n",
       "9  I'm 5\"5' and 125 lbs. i ordered the s petite t...       5                1   \n",
       "\n",
       "   Positive Feedback Count   Division Name Department Name Class Name  \n",
       "0                        0       Initmates        Intimate  Intimates  \n",
       "1                        4         General         Dresses    Dresses  \n",
       "2                        0         General         Dresses    Dresses  \n",
       "3                        0  General Petite         Bottoms      Pants  \n",
       "4                        6         General            Tops    Blouses  \n",
       "5                        4         General         Dresses    Dresses  \n",
       "6                        1  General Petite            Tops      Knits  \n",
       "7                        4  General Petite            Tops      Knits  \n",
       "8                        0         General         Dresses    Dresses  \n",
       "9                        0         General         Dresses    Dresses  "
      ]
     },
     "execution_count": 47,
     "metadata": {},
     "output_type": "execute_result"
    }
   ],
   "source": [
    "path = \"/Users/jingtingzhang/Documents/Insight2018_2/scripts/Womens Clothing E-Commerce Reviews.csv\"\n",
    "df = pd.read_csv(path)\n",
    "df.head(10)"
   ]
  },
  {
   "cell_type": "code",
   "execution_count": 48,
   "metadata": {},
   "outputs": [
    {
     "name": "stdout",
     "output_type": "stream",
     "text": [
      "<class 'pandas.core.frame.DataFrame'>\n",
      "RangeIndex: 23486 entries, 0 to 23485\n",
      "Data columns (total 11 columns):\n",
      "Unnamed: 0                 23486 non-null int64\n",
      "Clothing ID                23486 non-null int64\n",
      "Age                        23486 non-null int64\n",
      "Title                      19676 non-null object\n",
      "Review Text                22641 non-null object\n",
      "Rating                     23486 non-null int64\n",
      "Recommended IND            23486 non-null int64\n",
      "Positive Feedback Count    23486 non-null int64\n",
      "Division Name              23472 non-null object\n",
      "Department Name            23472 non-null object\n",
      "Class Name                 23472 non-null object\n",
      "dtypes: int64(6), object(5)\n",
      "memory usage: 2.0+ MB\n"
     ]
    }
   ],
   "source": [
    "df.info()"
   ]
  },
  {
   "cell_type": "code",
   "execution_count": 49,
   "metadata": {},
   "outputs": [
    {
     "data": {
      "image/png": "[encoded data removed]",
      "text/plain": [
       "<Figure size 432x288 with 1 Axes>"
      ]
     },
     "metadata": {},
     "output_type": "display_data"
    }
   ],
   "source": [
    "# The age distribution in data\n",
    "plt.hist(df[\"Age\"], color=\"pink\", label = \"Age\")\n",
    "plt.legend()\n",
    "plt.xlabel(\"Age\")\n",
    "plt.ylabel(\"Count\")\n",
    "plt.title(\"Age Distribution\")\n",
    "plt.savefig(\"Age Distribution.png\")\n",
    "\n",
    "# remove frame from plt"
   ]
  },
  {
   "cell_type": "code",
   "execution_count": 50,
   "metadata": {},
   "outputs": [
    {
     "data": {
      "image/png": "[encoded data removed]",
      "text/plain": [
       "<Figure size 792x360 with 1 Axes>"
      ]
     },
     "metadata": {},
     "output_type": "display_data"
    }
   ],
   "source": [
    "sns.set(rc = {\"figure.figsize\":(11,5)})\n",
    "plt.hist(df.Age, bins = 40,  color=\"purple\")\n",
    "plt.xlabel(\"Age\")\n",
    "plt.ylabel(\"Reviews\")\n",
    "plt.title(\"Number of reviews per Age\");\n",
    "plt.savefig(\"Number of reviews per Age.png\")"
   ]
  },
  {
   "cell_type": "code",
   "execution_count": 51,
   "metadata": {},
   "outputs": [
    {
     "data": {
      "image/png": "[encoded data removed]",
      "text/plain": [
       "<Figure size 432x432 with 1 Axes>"
      ]
     },
     "metadata": {},
     "output_type": "display_data"
    }
   ],
   "source": [
    "sns.set(rc = {\"figure.figsize\":(6,6)})\n",
    "plt.title(\"Distribution of Ratings\")\n",
    "sns.countplot(x = \"Rating\", data = df);\n",
    "plt.savefig(\"Distribution of Ratings.png\")"
   ]
  },
  {
   "cell_type": "code",
   "execution_count": 52,
   "metadata": {},
   "outputs": [],
   "source": [
    "recommended = df[df[\"Recommended IND\"]==1]\n",
    "not_recommended = df[df[\"Recommended IND\"]==0]"
   ]
  },
  {
   "cell_type": "code",
   "execution_count": 11,
   "metadata": {},
   "outputs": [
    {
     "data": {
      "image/png": "[encoded data removed]",
      "text/plain": [
       "<Figure size 1008x1008 with 3 Axes>"
      ]
     },
     "metadata": {},
     "output_type": "display_data"
    }
   ],
   "source": [
    "fig = plt.figure(figsize=(14, 14))\n",
    "ax1 = plt.subplot2grid((2, 2), (0, 0))\n",
    "ax1 = sns.countplot(recommended['Division Name'], color = \"green\", alpha = 0.8, label = \"Recommended\")\n",
    "ax1 = sns.countplot(not_recommended['Division Name'], color = \"yellow\", alpha = 0.8, label = \"Not Recommended\")\n",
    "ax1 = plt.title(\"Recommended Items in each Division\")\n",
    "ax1 = plt.legend()\n",
    "\n",
    "ax2 = plt.subplot2grid((2, 2), (0, 1))\n",
    "ax2 = sns.countplot(recommended['Department Name'], color=\"green\", alpha = 0.8, label = \"Recommended\")\n",
    "ax2 = sns.countplot(not_recommended['Department Name'], color=\"yellow\", alpha = 0.8, label = \"Not Recommended\")\n",
    "ax2 = plt.title(\"Recommended Items in each Department\")\n",
    "ax2 = plt.legend()\n",
    "\n",
    "ax3 = plt.subplot2grid((2, 2), (1, 0), colspan=2)\n",
    "ax3 = plt.xticks(rotation=45)\n",
    "ax3 = sns.countplot(recommended['Class Name'], color=\"green\", alpha = 0.8, label = \"Recommended\")\n",
    "ax3 = sns.countplot(not_recommended['Class Name'], color=\"yellow\", alpha = 0.8, label = \"Not Recommended\")\n",
    "ax3 = plt.title(\"Recommended Items in each Class\")\n",
    "ax3 = plt.legend()\n",
    "plt.savefig(\"Recommended Items in each Division or Class.png\")"
   ]
  },
  {
   "cell_type": "code",
   "execution_count": 53,
   "metadata": {},
   "outputs": [
    {
     "data": {
      "text/html": [
       "<div>\n",
       "<style scoped>\n",
       "    .dataframe tbody tr th:only-of-type {\n",
       "        vertical-align: middle;\n",
       "    }\n",
       "\n",
       "    .dataframe tbody tr th {\n",
       "        vertical-align: top;\n",
       "    }\n",
       "\n",
       "    .dataframe thead th {\n",
       "        text-align: right;\n",
       "    }\n",
       "</style>\n",
       "<table border=\"1\" class=\"dataframe\">\n",
       "  <thead>\n",
       "    <tr style=\"text-align: right;\">\n",
       "      <th></th>\n",
       "      <th>Unnamed: 0</th>\n",
       "      <th>Clothing ID</th>\n",
       "      <th>Age</th>\n",
       "      <th>Title</th>\n",
       "      <th>Review Text</th>\n",
       "      <th>Rating</th>\n",
       "      <th>Recommended IND</th>\n",
       "      <th>Positive Feedback Count</th>\n",
       "      <th>Division Name</th>\n",
       "      <th>Department Name</th>\n",
       "      <th>Class Name</th>\n",
       "      <th>Review Length</th>\n",
       "    </tr>\n",
       "  </thead>\n",
       "  <tbody>\n",
       "    <tr>\n",
       "      <th>0</th>\n",
       "      <td>0</td>\n",
       "      <td>767</td>\n",
       "      <td>33</td>\n",
       "      <td>NaN</td>\n",
       "      <td>Absolutely wonderful - silky and sexy and comf...</td>\n",
       "      <td>4</td>\n",
       "      <td>1</td>\n",
       "      <td>0</td>\n",
       "      <td>Initmates</td>\n",
       "      <td>Intimate</td>\n",
       "      <td>Intimates</td>\n",
       "      <td>53</td>\n",
       "    </tr>\n",
       "    <tr>\n",
       "      <th>1</th>\n",
       "      <td>1</td>\n",
       "      <td>1080</td>\n",
       "      <td>34</td>\n",
       "      <td>NaN</td>\n",
       "      <td>Love this dress!  it's sooo pretty.  i happene...</td>\n",
       "      <td>5</td>\n",
       "      <td>1</td>\n",
       "      <td>4</td>\n",
       "      <td>General</td>\n",
       "      <td>Dresses</td>\n",
       "      <td>Dresses</td>\n",
       "      <td>303</td>\n",
       "    </tr>\n",
       "    <tr>\n",
       "      <th>2</th>\n",
       "      <td>2</td>\n",
       "      <td>1077</td>\n",
       "      <td>60</td>\n",
       "      <td>Some major design flaws</td>\n",
       "      <td>I had such high hopes for this dress and reall...</td>\n",
       "      <td>3</td>\n",
       "      <td>0</td>\n",
       "      <td>0</td>\n",
       "      <td>General</td>\n",
       "      <td>Dresses</td>\n",
       "      <td>Dresses</td>\n",
       "      <td>500</td>\n",
       "    </tr>\n",
       "    <tr>\n",
       "      <th>3</th>\n",
       "      <td>3</td>\n",
       "      <td>1049</td>\n",
       "      <td>50</td>\n",
       "      <td>My favorite buy!</td>\n",
       "      <td>I love, love, love this jumpsuit. it's fun, fl...</td>\n",
       "      <td>5</td>\n",
       "      <td>1</td>\n",
       "      <td>0</td>\n",
       "      <td>General Petite</td>\n",
       "      <td>Bottoms</td>\n",
       "      <td>Pants</td>\n",
       "      <td>124</td>\n",
       "    </tr>\n",
       "    <tr>\n",
       "      <th>4</th>\n",
       "      <td>4</td>\n",
       "      <td>847</td>\n",
       "      <td>47</td>\n",
       "      <td>Flattering shirt</td>\n",
       "      <td>This shirt is very flattering to all due to th...</td>\n",
       "      <td>5</td>\n",
       "      <td>1</td>\n",
       "      <td>6</td>\n",
       "      <td>General</td>\n",
       "      <td>Tops</td>\n",
       "      <td>Blouses</td>\n",
       "      <td>192</td>\n",
       "    </tr>\n",
       "  </tbody>\n",
       "</table>\n",
       "</div>"
      ],
      "text/plain": [
       "   Unnamed: 0  Clothing ID  Age                    Title  \\\n",
       "0           0          767   33                      NaN   \n",
       "1           1         1080   34                      NaN   \n",
       "2           2         1077   60  Some major design flaws   \n",
       "3           3         1049   50         My favorite buy!   \n",
       "4           4          847   47         Flattering shirt   \n",
       "\n",
       "                                         Review Text  Rating  Recommended IND  \\\n",
       "0  Absolutely wonderful - silky and sexy and comf...       4                1   \n",
       "1  Love this dress!  it's sooo pretty.  i happene...       5                1   \n",
       "2  I had such high hopes for this dress and reall...       3                0   \n",
       "3  I love, love, love this jumpsuit. it's fun, fl...       5                1   \n",
       "4  This shirt is very flattering to all due to th...       5                1   \n",
       "\n",
       "   Positive Feedback Count   Division Name Department Name Class Name  \\\n",
       "0                        0       Initmates        Intimate  Intimates   \n",
       "1                        4         General         Dresses    Dresses   \n",
       "2                        0         General         Dresses    Dresses   \n",
       "3                        0  General Petite         Bottoms      Pants   \n",
       "4                        6         General            Tops    Blouses   \n",
       "\n",
       "   Review Length  \n",
       "0             53  \n",
       "1            303  \n",
       "2            500  \n",
       "3            124  \n",
       "4            192  "
      ]
     },
     "execution_count": 53,
     "metadata": {},
     "output_type": "execute_result"
    }
   ],
   "source": [
    "df[\"Review Length\"] = df[\"Review Text\"].astype(str).apply(len)\n",
    "df.head()"
   ]
  },
  {
   "cell_type": "code",
   "execution_count": 54,
   "metadata": {},
   "outputs": [
    {
     "name": "stderr",
     "output_type": "stream",
     "text": [
      "/Users/jingtingzhang/anaconda3/lib/python3.6/site-packages/matplotlib/axes/_axes.py:6462: UserWarning: The 'normed' kwarg is deprecated, and has been replaced by the 'density' kwarg.\n",
      "  warnings.warn(\"The 'normed' kwarg is deprecated, and has been \"\n"
     ]
    },
    {
     "data": {
      "image/png": "[encoded data removed]",
      "text/plain": [
       "<Figure size 720x360 with 1 Axes>"
      ]
     },
     "metadata": {},
     "output_type": "display_data"
    }
   ],
   "source": [
    "fig = plt.figure(figsize=(10, 5))\n",
    "ax = sns.distplot(df[\"Review Length\"], color=\"green\", bins=40, kde=False)\n",
    "ax = plt.title(\"Review Length\")\n",
    "plt.savefig(\"Review Length.png\")"
   ]
  },
  {
   "cell_type": "code",
   "execution_count": 56,
   "metadata": {},
   "outputs": [],
   "source": [
    "df[\"Review Length\"] = df[\"Review Text\"].astype(str).apply(len)\n",
    "#df.head()"
   ]
  },
  {
   "cell_type": "code",
   "execution_count": 58,
   "metadata": {},
   "outputs": [
    {
     "data": {
      "text/plain": [
       "<matplotlib.axes._subplots.AxesSubplot at 0x1c2daa47b8>"
      ]
     },
     "execution_count": 58,
     "metadata": {},
     "output_type": "execute_result"
    },
    {
     "data": {
      "image/png": "[encoded data removed]",
      "text/plain": [
       "<Figure size 1440x720 with 1 Axes>"
      ]
     },
     "metadata": {},
     "output_type": "display_data"
    },
    {
     "data": {
      "image/png": "[encoded data removed]",
      "text/plain": [
       "<Figure size 1440x720 with 1 Axes>"
      ]
     },
     "metadata": {},
     "output_type": "display_data"
    }
   ],
   "source": [
    "plt.figure(figsize=(20,10))\n",
    "sns.boxplot(x = \"Department Name\", y = \"Rating\", data = df)\n",
    "plt.figure(figsize=(20,10))\n",
    "sns.boxplot(x = \"Department Name\", y = \"Review Length\", data = df)"
   ]
  },
  {
   "cell_type": "code",
   "execution_count": 57,
   "metadata": {},
   "outputs": [
    {
     "ename": "SyntaxError",
     "evalue": "invalid syntax (<ipython-input-57-aa90e60a02ed>, line 1)",
     "output_type": "error",
     "traceback": [
      "\u001b[0;36m  File \u001b[0;32m\"<ipython-input-57-aa90e60a02ed>\"\u001b[0;36m, line \u001b[0;32m1\u001b[0m\n\u001b[0;31m    sns.set(rc={figure.figsize=(20,10)})\u001b[0m\n\u001b[0m                              ^\u001b[0m\n\u001b[0;31mSyntaxError\u001b[0m\u001b[0;31m:\u001b[0m invalid syntax\n"
     ]
    }
   ],
   "source": [
    "sns.set(rc={figure.figsize=(20,10)})\n",
    "plt.title(\"Review Length by Class\")\n",
    "sns.boxplot(x = \"Class Name\", y = \"Review Length\", data = df);\n",
    "plt.savefig(\"Review Length by Class.png\")"
   ]
  },
  {
   "cell_type": "code",
   "execution_count": 59,
   "metadata": {},
   "outputs": [
    {
     "name": "stdout",
     "output_type": "stream",
     "text": [
      "(23486,)\n"
     ]
    }
   ],
   "source": [
    "ps = PorterStemmer()\n",
    "Reviews = df['Review Text'].astype(str)\n",
    "print(Reviews.shape)\n",
    "Reviews[Reviews.isnull()] = \"NULL\""
   ]
  },
  {
   "cell_type": "code",
   "execution_count": null,
   "metadata": {},
   "outputs": [],
   "source": []
  },
  {
   "cell_type": "markdown",
   "metadata": {},
   "source": [
    "## Keyword detection"
   ]
  },
  {
   "cell_type": "markdown",
   "metadata": {},
   "source": [
    "### Pre-processing: tokenize, remove keywords, lemmatize"
   ]
  },
  {
   "cell_type": "code",
   "execution_count": null,
   "metadata": {},
   "outputs": [],
   "source": [
    "#import sys\n",
    "#!{sys.executable} -m pip install summa"
   ]
  },
  {
   "cell_type": "code",
   "execution_count": null,
   "metadata": {},
   "outputs": [],
   "source": [
    "# import spacy\n",
    "\n",
    "# nlp = spacy.load('')\n",
    "# doc = nlp(u\"Autonomous cars shift insurance liability toward manufacturers\")\n",
    "# for token in doc:\n",
    "#     print(token.text, token.dep_, token.head.text, token.head.pos_,\n",
    "#           [child for child in token.children])"
   ]
  },
  {
   "cell_type": "code",
   "execution_count": 60,
   "metadata": {},
   "outputs": [],
   "source": [
    "tokenizer = RegexpTokenizer(r'[a-zA-Z]{3,}')"
   ]
  },
  {
   "cell_type": "code",
   "execution_count": 61,
   "metadata": {},
   "outputs": [
    {
     "name": "stdout",
     "output_type": "stream",
     "text": [
      "[nltk_data] Downloading package stopwords to\n",
      "[nltk_data]     /Users/jingtingzhang/nltk_data...\n",
      "[nltk_data]   Package stopwords is already up-to-date!\n"
     ]
    }
   ],
   "source": [
    "nltk.download('stopwords')\n",
    "stop_words = set(stopwords.words('english'))"
   ]
  },
  {
   "cell_type": "code",
   "execution_count": 62,
   "metadata": {},
   "outputs": [
    {
     "name": "stdout",
     "output_type": "stream",
     "text": [
      "Requirement already satisfied: gensim in /Users/jingtingzhang/anaconda3/lib/python3.6/site-packages (3.6.0)\n",
      "Requirement already satisfied: six>=1.5.0 in /Users/jingtingzhang/anaconda3/lib/python3.6/site-packages (from gensim) (1.11.0)\n",
      "Requirement already satisfied: smart-open>=1.2.1 in /Users/jingtingzhang/anaconda3/lib/python3.6/site-packages (from gensim) (1.7.1)\n",
      "Requirement already satisfied: numpy>=1.11.3 in /Users/jingtingzhang/anaconda3/lib/python3.6/site-packages (from gensim) (1.14.3)\n",
      "Requirement already satisfied: scipy>=0.18.1 in /Users/jingtingzhang/anaconda3/lib/python3.6/site-packages (from gensim) (1.1.0)\n",
      "Requirement already satisfied: boto3 in /Users/jingtingzhang/anaconda3/lib/python3.6/site-packages (from smart-open>=1.2.1->gensim) (1.9.14)\n",
      "Requirement already satisfied: boto>=2.32 in /Users/jingtingzhang/anaconda3/lib/python3.6/site-packages (from smart-open>=1.2.1->gensim) (2.48.0)\n",
      "Requirement already satisfied: bz2file in /Users/jingtingzhang/anaconda3/lib/python3.6/site-packages (from smart-open>=1.2.1->gensim) (0.98)\n",
      "Requirement already satisfied: requests in /Users/jingtingzhang/anaconda3/lib/python3.6/site-packages (from smart-open>=1.2.1->gensim) (2.18.4)\n",
      "Requirement already satisfied: s3transfer<0.2.0,>=0.1.10 in /Users/jingtingzhang/anaconda3/lib/python3.6/site-packages (from boto3->smart-open>=1.2.1->gensim) (0.1.13)\n",
      "Requirement already satisfied: jmespath<1.0.0,>=0.7.1 in /Users/jingtingzhang/anaconda3/lib/python3.6/site-packages (from boto3->smart-open>=1.2.1->gensim) (0.9.3)\n",
      "Requirement already satisfied: botocore<1.13.0,>=1.12.14 in /Users/jingtingzhang/anaconda3/lib/python3.6/site-packages (from boto3->smart-open>=1.2.1->gensim) (1.12.14)\n",
      "Requirement already satisfied: chardet<3.1.0,>=3.0.2 in /Users/jingtingzhang/anaconda3/lib/python3.6/site-packages (from requests->smart-open>=1.2.1->gensim) (3.0.4)\n",
      "Requirement already satisfied: idna<2.7,>=2.5 in /Users/jingtingzhang/anaconda3/lib/python3.6/site-packages (from requests->smart-open>=1.2.1->gensim) (2.6)\n",
      "Requirement already satisfied: urllib3<1.23,>=1.21.1 in /Users/jingtingzhang/anaconda3/lib/python3.6/site-packages (from requests->smart-open>=1.2.1->gensim) (1.22)\n",
      "Requirement already satisfied: certifi>=2017.4.17 in /Users/jingtingzhang/anaconda3/lib/python3.6/site-packages (from requests->smart-open>=1.2.1->gensim) (2018.4.16)\n",
      "Requirement already satisfied: docutils>=0.10 in /Users/jingtingzhang/anaconda3/lib/python3.6/site-packages (from botocore<1.13.0,>=1.12.14->boto3->smart-open>=1.2.1->gensim) (0.14)\n",
      "Requirement already satisfied: python-dateutil<3.0.0,>=2.1 in /Users/jingtingzhang/anaconda3/lib/python3.6/site-packages (from botocore<1.13.0,>=1.12.14->boto3->smart-open>=1.2.1->gensim) (2.7.3)\n",
      "\u001b[33mYou are using pip version 18.0, however version 18.1 is available.\n",
      "You should consider upgrading via the 'pip install --upgrade pip' command.\u001b[0m\n"
     ]
    }
   ],
   "source": [
    "!{sys.executable} -m pip install gensim"
   ]
  },
  {
   "cell_type": "code",
   "execution_count": 63,
   "metadata": {},
   "outputs": [],
   "source": [
    "import gensim\n",
    "from gensim.summarization import graph\n",
    "from gensim.summarization import keywords"
   ]
  },
  {
   "cell_type": "code",
   "execution_count": 64,
   "metadata": {},
   "outputs": [],
   "source": [
    "# The txt file should not contain quotes or paragraph separating functions (soft cap would work) #\n",
    "with open('review_text_4.txt', 'r') as tfile:\n",
    "    txt = tfile.read()"
   ]
  },
  {
   "cell_type": "code",
   "execution_count": 65,
   "metadata": {},
   "outputs": [
    {
     "name": "stdout",
     "output_type": "stream",
     "text": [
      "Solving environment: done\n",
      "\n",
      "# All requested packages already installed.\n",
      "\n"
     ]
    }
   ],
   "source": [
    "import sys\n",
    "!conda install --yes --prefix {sys.prefix} gensim"
   ]
  },
  {
   "cell_type": "code",
   "execution_count": 66,
   "metadata": {},
   "outputs": [
    {
     "ename": "NameError",
     "evalue": "name 'scores' is not defined",
     "output_type": "error",
     "traceback": [
      "\u001b[0;31m---------------------------------------------------------------------------\u001b[0m",
      "\u001b[0;31mNameError\u001b[0m                                 Traceback (most recent call last)",
      "\u001b[0;32m<ipython-input-66-2a2ff61b2831>\u001b[0m in \u001b[0;36m<module>\u001b[0;34m()\u001b[0m\n\u001b[1;32m      1\u001b[0m \u001b[0mplt\u001b[0m\u001b[0;34m.\u001b[0m\u001b[0mfigure\u001b[0m\u001b[0;34m(\u001b[0m\u001b[0mfigsize\u001b[0m\u001b[0;34m=\u001b[0m\u001b[0;34m(\u001b[0m\u001b[0;36m20\u001b[0m\u001b[0;34m,\u001b[0m\u001b[0;36m10\u001b[0m\u001b[0;34m)\u001b[0m\u001b[0;34m)\u001b[0m\u001b[0;34m\u001b[0m\u001b[0m\n\u001b[0;32m----> 2\u001b[0;31m \u001b[0msns\u001b[0m\u001b[0;34m.\u001b[0m\u001b[0mboxplot\u001b[0m\u001b[0;34m(\u001b[0m\u001b[0mtxt\u001b[0m\u001b[0;34m,\u001b[0m \u001b[0mscores\u001b[0m\u001b[0;34m,\u001b[0m \u001b[0mdata\u001b[0m \u001b[0;34m=\u001b[0m \u001b[0mdf\u001b[0m\u001b[0;34m)\u001b[0m\u001b[0;34m\u001b[0m\u001b[0m\n\u001b[0m",
      "\u001b[0;31mNameError\u001b[0m: name 'scores' is not defined"
     ]
    },
    {
     "data": {
      "text/plain": [
       "<Figure size 1440x720 with 0 Axes>"
      ]
     },
     "metadata": {},
     "output_type": "display_data"
    }
   ],
   "source": [
    "plt.figure(figsize=(20,10))\n",
    "sns.boxplot(txt, scores, data = df)"
   ]
  },
  {
   "cell_type": "code",
   "execution_count": 67,
   "metadata": {},
   "outputs": [],
   "source": [
    "def preprocessing(data):\n",
    "    txt = data.str.lower().str.cat(sep=' ')\n",
    "    words = tokenizer.tokenize(txt) \n",
    "    words = [w for w in words if not w in stop_words]\n",
    "    return words"
   ]
  },
  {
   "cell_type": "code",
   "execution_count": 68,
   "metadata": {},
   "outputs": [],
   "source": [
    "df['tokenized']=df[\"Review Text\"].astype(str).str.lower() # Turn into lower case text\n",
    "df['tokenized']=df.apply(lambda row: tokenizer.tokenize(row['tokenized']), axis=1) # Apply tokenize to each row\n",
    "df['tokenized']=df['tokenized'].apply(lambda x: [w for w in x if not w in stop_words]) # Remove stopwords from each row"
   ]
  },
  {
   "cell_type": "code",
   "execution_count": 70,
   "metadata": {},
   "outputs": [],
   "source": [
    "def string_unlist(strlist):\n",
    "    return \" \".join(strlist)\n",
    "\n",
    "df[\"tokenized_unlist\"] = df[\"tokenized\"].apply(string_unlist)\n",
    "#df.head()"
   ]
  },
  {
   "cell_type": "code",
   "execution_count": 74,
   "metadata": {},
   "outputs": [
    {
     "ename": "NameError",
     "evalue": "name 'words' is not defined",
     "output_type": "error",
     "traceback": [
      "\u001b[0;31m---------------------------------------------------------------------------\u001b[0m",
      "\u001b[0;31mNameError\u001b[0m                                 Traceback (most recent call last)",
      "\u001b[0;32m<ipython-input-74-e273b5d99ae6>\u001b[0m in \u001b[0;36m<module>\u001b[0;34m()\u001b[0m\n\u001b[0;32m----> 1\u001b[0;31m print(gensim.summarization.keywords(words, ratio=0.2, words=None, split=True, scores=True, \n\u001b[0m\u001b[1;32m      2\u001b[0m                                        pos_filter=('NN', 'JJ'), lemmatize=True, deacc=True))\n",
      "\u001b[0;31mNameError\u001b[0m: name 'words' is not defined"
     ]
    }
   ],
   "source": [
    "print(gensim.summarization.keywords(words, ratio=0.2, words=None, split=True, scores=True, \n",
    "                                       pos_filter=('NN', 'JJ'), lemmatize=True, deacc=True))"
   ]
  },
  {
   "cell_type": "code",
   "execution_count": 73,
   "metadata": {},
   "outputs": [
    {
     "name": "stdout",
     "output_type": "stream",
     "text": [
      "[('looked', 0.2869922368916953), ('loving', 0.22600395359028225), ('dresse', 0.21471457955425044), ('coloring', 0.19501906195274338), ('fitted', 0.19305192984028222), ('likes', 0.19244724807478109), ('littl', 0.16141161464387666), ('great', 0.15644247659220042), ('sizes', 0.1439227715185717), ('fabrication', 0.14115896829069818), ('perfects', 0.10828156496732164), ('beauties', 0.10232187215727204), ('cuteness', 0.09969939784825826), ('retailers', 0.09724148008717645), ('prettiness', 0.09699366414568825), ('wearings', 0.09655078267470917), ('styles', 0.09519113693400558), ('softness', 0.09493009506955859), ('sweaters', 0.09406488882903162), ('feelings', 0.08869109000741986), ('shirts', 0.0882445477746434), ('materi', 0.08584560640504489), ('black', 0.08583575507404968), ('designer', 0.07992118979601892), ('smalls', 0.07972250802700885), ('bits', 0.0781287407567483), ('pant', 0.07805221935785306), ('comfortably', 0.07578584338706237), ('skirted', 0.07558132909029405), ('shortness', 0.07422327811893223), ('whiteness', 0.07413864238289114), ('jean', 0.07383917219858287), ('goodness', 0.0738036288668919), ('nice charcoal', 0.07367642681639679), ('flattereing', 0.07303767802626854), ('definitively', 0.07084011839530892), ('super', 0.07060128430639839), ('lengths', 0.07032879464801445), ('cuts', 0.06921862182978267), ('long', 0.06879044249426133), ('linings', 0.06869873689416259), ('printed', 0.0684524491580317), ('waiste', 0.06789331118043201), ('orders', 0.067776104491449), ('working', 0.06766969880814803), ('nan', 0.06709160513892262), ('blues', 0.06678878664782259), ('sleev', 0.06669111699691525), ('right', 0.06665959793554482), ('summers', 0.06638233293928268), ('qualities', 0.06550843188971822), ('patterns', 0.06535126800028816), ('big', 0.06317867997175951), ('shaping', 0.06159902275789832), ('run', 0.060532853573545146), ('slightly', 0.05802014516726588), ('wais', 0.05753986204778206), ('buttoning', 0.057452278393843974), ('pieced', 0.05690982781839886), ('making', 0.056571576936548545), ('online', 0.05434699822867565), ('jackets', 0.05403728207130564), ('falling', 0.05397252107570131), ('usually', 0.053227072065487914), ('largely', 0.053164637238562074), ('overalls', 0.05307670794935214), ('petit', 0.05262480515308455), ('casually', 0.052398315240970945), ('lightness', 0.051197718221014606), ('day', 0.05042622092884767), ('tightness', 0.05026787221182326), ('topped', 0.049469912188060385), ('bras', 0.04843898281655438), ('actuality', 0.04833119684407504), ('stores', 0.04777104100576409), ('gorgeous', 0.04761327629497257), ('things', 0.04717032677137175), ('loosing', 0.04675489198439936), ('unfortunate', 0.04599073959371109), ('especially', 0.04525118254494604), ('fun', 0.04471355655637383), ('armed', 0.04447231069676813), ('reds', 0.04436740677033009), ('legged', 0.04423165085571128), ('timely', 0.04420812154426401), ('perfectly', 0.04403568609809702), ('shouldered', 0.043412536398664284), ('layered', 0.043120715367714654), ('areas', 0.04287778454496975), ('cotton', 0.04234879016696882), ('tees', 0.04225757099173567), ('greens', 0.04170754015197073), ('denim', 0.041630526455443496), ('differences', 0.04148966164919594), ('high', 0.04093170584743873), ('weights', 0.04060698496766549), ('pocket', 0.04012855289109462), ('detailing', 0.04010388384913661), ('laced', 0.03988716996944593), ('bodies', 0.039884454488758894), ('blouses', 0.03965550646751175), ('reviewed', 0.03918516506402297), ('purchasable', 0.03894083085516896), ('washings', 0.0382590035728588), ('bought', 0.03805757241998672), ('hemming', 0.03800245583089556), ('felted', 0.037614881323948406), ('lbs', 0.03750640232532032), ('total', 0.03693724131873349), ('underneath', 0.03684371179322021), ('extras', 0.03668411301372395), ('absolute', 0.036472437073054004), ('pairing', 0.03632639281534069), ('hipped', 0.03610247804439264), ('better', 0.03606862355465564), ('maybe', 0.03534354190590167), ('uniquenesses', 0.03466461723309494), ('pricely', 0.03459738940494557), ('bui', 0.03459447527732349), ('opens', 0.03441702812057253), ('tanks', 0.033995334183341566), ('winters', 0.033967223207882404), ('cloths', 0.03386740402052224), ('neede', 0.03361066180169719), ('knitting', 0.033508536939913944), ('personality', 0.03348518763356397), ('returnable', 0.03337821010918821), ('grey', 0.03332777091826075), ('easily', 0.03300203324625472), ('probably', 0.032879481540916654), ('complete', 0.032865020312929344), ('thinkness', 0.03284745648890818), ('widely', 0.03278026348953666), ('mediums', 0.03258868444796817), ('easy', 0.032492910081716675), ('pinks', 0.032362684463015864), ('flowiness', 0.03224523322772665), ('cardigans', 0.03149743557602062), ('warming', 0.0312786327496617), ('longer', 0.03114818451124675), ('add', 0.031070247198070507), ('pictures', 0.0310432968223667), ('necks', 0.030992869838546922), ('extreme', 0.030923366030258), ('sales girl', 0.03087776621937216), ('lightweight', 0.03084495056583597), ('versions', 0.03065161389887705), ('comfie', 0.030299414222430095), ('normall', 0.030270486189583973), ('striping', 0.030248998784918067), ('favorites', 0.030209329631001106), ('best', 0.02994878485117064), ('hitting', 0.029705824449771795), ('shorter', 0.02969205970821502), ('boot', 0.02960610384477008), ('regulars', 0.02914812807937121), ('femininity', 0.02888179525674904), ('chests', 0.0287169860672347), ('darkness', 0.02865738478631496), ('modeled', 0.02863258842918732), ('disappoints', 0.02831754065779096), ('hugely', 0.02825918516058497), ('getting', 0.028218939315493435), ('coming', 0.027983820379466597), ('busted', 0.027862587107917117), ('vests', 0.02774436608873001), ('cools', 0.02771592117984474), ('recommends', 0.02760799717310084), ('slims', 0.027384365052872568), ('news', 0.027381959669726494), ('seaming', 0.02718601811207891), ('draping', 0.02707798542353495), ('coated', 0.02678833969149246), ('tried', 0.026742588436823676), ('navy', 0.02665777501764481), ('yellows', 0.026627861644064554), ('necklines', 0.026483906856768963), ('showed', 0.026354030434614092), ('ador', 0.02632348197352583), ('issues', 0.02631691926198), ('got stuck', 0.026078904323116728), ('classical', 0.02605948833547625), ('basics', 0.025890955373944865), ('figures', 0.025889252228571476), ('heaviness', 0.0256236551919981), ('instead', 0.02555839981024458), ('skinnys', 0.025552744556656865), ('typical', 0.0253756181721441), ('sadly', 0.025369678364791974), ('pulles', 0.02530350585778209), ('types', 0.025245826371756465), ('items', 0.025014648289875537), ('zippered', 0.024864497439635612), ('complimented', 0.024847867509951424), ('versatile', 0.024652253428651457), ('crops', 0.02457892461434458), ('grays', 0.02453599661295568), ('wed', 0.02451188030343489), ('highly', 0.02448776106951577), ('flats', 0.02433810064254137), ('texturing', 0.024324140032717146), ('tunics', 0.024308572865868204), ('beautifully', 0.02418354036531531), ('boxiness', 0.02416303615172207), ('low', 0.02415027123003819), ('appeared', 0.023929900313357223), ('true midi', 0.023883573458200368), ('collared', 0.023852313744749495), ('strap', 0.023701013100112755), ('tts', 0.023673693907398326), ('hange', 0.023532887091356126), ('oversizing', 0.023436152783557634), ('simpleness', 0.023007705595153794), ('pilcros', 0.022999461078908694), ('heeled', 0.022937287851644873), ('belting', 0.022615482357513737), ('wool', 0.022476228912983585), ('weathered', 0.022448890752925926), ('spring', 0.02230016576010554), ('away', 0.022073823119891946), ('said', 0.02197678204094416), ('weird', 0.02196984934691464), ('hole', 0.021871566722915733), ('goings', 0.02185624468372637), ('flaring', 0.021836573672522445), ('florals', 0.02175594789644922), ('photo', 0.021576712499512866), ('orange', 0.02149432847620598), ('hot', 0.02148467535237427), ('stretchiness', 0.021464736332157258), ('touched', 0.021454035735242596), ('flowed', 0.02144981336990056), ('wonders', 0.021438645466856917), ('wore', 0.021434236844646914), ('immediate', 0.021369993416956185), ('today', 0.021125696567219566), ('base', 0.02107186957588445), ('stretching', 0.02088891360050191), ('worn', 0.020755441116268685), ('branding', 0.020725744553955865), ('pleated', 0.020722878950479133), ('wante', 0.02071103723198567), ('swinging', 0.02068983638416385), ('covering', 0.020671825589600765), ('gold', 0.02057670158570639), ('seasonal', 0.02051356239568721), ('sheerness', 0.02051068524280337), ('straight', 0.020449399140858426), ('stitches', 0.020400696569712898), ('frames', 0.020391144996612282), ('mid', 0.0203735541156279), ('somewhat', 0.020254459422136613), ('browns', 0.020212331506517762), ('plus', 0.020106788785220705), ('bad', 0.02005621759028125), ('embroidery', 0.020007736354958183), ('problems', 0.019734740028753743), ('knees', 0.019553465342720035), ('lady', 0.01940658986405226), ('giving', 0.019393881856330265), ('helping', 0.019359846265331382), ('delicateness', 0.019302807246293786), ('old', 0.01929992307187849), ('inching', 0.01926529654446473), ('goes', 0.01922570723404383), ('final', 0.019150956411865722), ('flowered', 0.019133158427575476), ('came', 0.019091783585120963), ('ends', 0.019042971201737473), ('talls', 0.018924280096430057), ('booty', 0.018745226217464217), ('chicness', 0.01872970451182388), ('slips', 0.018724555895644715), ('try', 0.018708997031040068), ('similar', 0.018492813615378394), ('cheapness', 0.018429594272178964), ('lots', 0.018388920328233877), ('sweatshirts', 0.018386402302186505), ('worth', 0.018180590030496303), ('tie', 0.01815711013388531), ('adding', 0.0181370360489425), ('went', 0.018092904645164335), ('amaze', 0.018011223277550774), ('unflattering', 0.017995035356453838), ('conside', 0.017994452246194163), ('linen', 0.01788985850036215), ('subtle', 0.017832431017966287), ('yes', 0.017831622493807323), ('brightness', 0.017803068354357444), ('isn', 0.01778132870521778), ('colde', 0.017709172541854456), ('necklac', 0.017626480405773762), ('leather', 0.017600097614244047), ('wishing', 0.017480107885508106), ('silk', 0.017472044729441513), ('ivory', 0.017299908671121012), ('cream', 0.017277311429587255), ('hopeful', 0.01721205989985718), ('camis', 0.01717244962156204), ('sexiness', 0.017121837827678812), ('parties', 0.016993271428627738), ('stylish', 0.016862441117336504), ('wrinkling', 0.01683740302777899), ('babies', 0.01683242031373082), ('smaller', 0.016803874173048773), ('fine', 0.01679077089827565), ('drying', 0.016690147275993994), ('kind', 0.0165861553807185), ('sandal', 0.016549730911416444), ('expectation', 0.016524263958540713), ('tiny', 0.016519243768963965), ('thankful', 0.01646146286456608), ('ankles', 0.016435175906366926), ('incredibly', 0.01638511860348428), ('having', 0.016353338610872757), ('curved', 0.01632967709031483), ('stiffness', 0.01628658139185364), ('wardrobe', 0.016255355843886144), ('tad', 0.01622123211578937), ('hiding', 0.01604771165571397), ('awesomely', 0.015961585704776064), ('dotted', 0.015937854959035807), ('finds', 0.01589011923852303), ('month', 0.015761029503729575), ('sai', 0.015723763374412444), ('threading', 0.015629993549287634), ('ruffled', 0.015545042059430176), ('rich', 0.01553384918984124), ('larger', 0.015476253191881303), ('interested', 0.015435795145916606), ('placed', 0.01542158952732366), ('sitting', 0.015374018317766979), ('maxis', 0.015317262498636885), ('events', 0.015292846608698469), ('cozying', 0.015228129637935775), ('given', 0.015204121375746168), ('slight', 0.01512786543629476), ('special', 0.015110181661061074), ('starts', 0.015053873112424919), ('kept', 0.014965756741564328), ('snugness', 0.014952051597757778), ('weekender', 0.014931931525212685), ('bead', 0.014888225038974485), ('deep olive', 0.01488004447603407), ('matched', 0.014851319256895652), ('inside', 0.0147322815239438), ('silhouette', 0.014694193286250563), ('people', 0.014658217924251472), ('edged', 0.014629269889404477), ('peplums', 0.01456813549940662), ('odd', 0.014559185560241444), ('bigger', 0.014550494857001248), ('years wonderfully', 0.014520922777376809), ('truly', 0.014513747263454264), ('thighed', 0.014492007101851903), ('nights', 0.014447131685937965), ('fell', 0.014441118744596214), ('despite', 0.014395649280978891), ('knows', 0.014373275827970464), ('shaded', 0.014366839493341863), ('athletic', 0.014333935628615003), ('portions', 0.01427618536262819), ('lay', 0.014240928451801535), ('substantially', 0.014236789461405441), ('belly', 0.014201492800701458), ('torsos', 0.014159551429808166), ('exactly', 0.014139358830634129), ('toned', 0.014092040810321988), ('suited', 0.014066047567309089), ('ribs', 0.01401865104686404), ('pale', 0.014000395129038999), ('bare', 0.013991256560387102), ('skinned', 0.01392312005228494), ('options', 0.013911322292578994), ('addit', 0.013910981965875261), ('plaids', 0.013887937935542332), ('curvy', 0.013799948166034168), ('darker', 0.013787307145242827), ('dressy', 0.013732471319657887), ('trouser', 0.013720409634141279), ('closing', 0.013686947786798786), ('staples', 0.013678918596496316), ('purple', 0.013669433581881642), ('seconds', 0.013665715789273033), ('recent', 0.013636901777659128), ('narrows', 0.013626000392652934), ('ish', 0.013618817852333633), ('offices', 0.013618213410009825), ('turtlenecks', 0.01357049767931897), ('swingy', 0.013551318770486811), ('fairly', 0.013534250372906901), ('husband', 0.013504647265211674), ('preferably', 0.013452192623713754), ('requirement', 0.013309751657997547), ('near', 0.013285754251560422), ('stays', 0.01325237408177144), ('keeps', 0.013226110169343898), ('elegance', 0.013211068129570248), ('blazers', 0.013164446830451761), ('embroiding', 0.013070989866728418), ('sad', 0.01301080555495987), ('currently', 0.012958428384437122), ('vibrant', 0.012928891971016505), ('bottoms', 0.012917267658986169), ('higher', 0.012907514545482033), ('blends', 0.012858079460141458), ('fabulously', 0.012844457280524168), ('receives', 0.012769875951463954), ('lowering', 0.012765552737469809), ('garments', 0.01272192146297451), ('happy', 0.012706583637362394), ('holidays', 0.01261357508083386), ('wraps', 0.012576807313115813), ('thoughtful', 0.012572717084444858), ('woman', 0.012475794881925954), ('bulky', 0.012447854997614765), ('generously', 0.012442049057423786), ('bagged', 0.012419137658185685), ('fashioned', 0.012415574660255287), ('neutrals', 0.012380259870243639), ('roomie', 0.012355545756920161), ('cuff', 0.01227843309073914), ('trimmed', 0.012238010501862845), ('vintage', 0.012231040280980609), ('tailoring', 0.012230573503416583), ('ran', 0.012228365517115296), ('room', 0.01212480484846705), ('itchiness', 0.012094161013337044), ('spots', 0.012062492890819863), ('multiple', 0.01203738919297632), ('late', 0.01202811227422817), ('maternity', 0.011988822886092458), ('outfits', 0.011984019286247085), ('wasn', 0.011931177366648182), ('depends', 0.011928397383719239), ('velvet', 0.0119246018720663), ('lighter', 0.011898590880416237), ('pasted', 0.011856313136601336), ('hte', 0.011847477133316475), ('motif', 0.011835615700555288), ('arrivals', 0.011834339853604438), ('beaches', 0.011829805274048758), ('sections', 0.01180621597508167), ('baggies', 0.011795236067211109), ('left', 0.01179450903074878), ('thicker', 0.011760901927884069), ('tooks', 0.011748583834732738), ('banded', 0.01173138790574578), ('effective', 0.01172283547805453), ('suggests', 0.011706137397607992), ('transitions', 0.011698555474705627), ('literally', 0.011659405893998508), ('metallics', 0.011657567573948787), ('upper', 0.011654282967962983), ('vibes', 0.011604335092656551), ('saw', 0.01156141457203739), ('surprising', 0.011527205080935155), ('structural', 0.011522469846469102), ('shown', 0.011467710921469854), ('entire', 0.011464260430784915), ('cupped', 0.01142609092712852), ('classy', 0.011400122459827581), ('pound', 0.011343435509819033), ('strangely', 0.011308697822556274), ('avoids', 0.01128382163436901), ('leaves', 0.011245843526253227), ('evens', 0.011239664448904743), ('inspirational', 0.011204295192620138), ('jumpsuits', 0.011165241884109235), ('shoe', 0.011161070291836994), ('appropriately', 0.011096075415863611), ('tis', 0.011049239963268124), ('wowed', 0.010987998482223078), ('natured', 0.010987969193669773), ('stops', 0.010986100222120697), ('star', 0.010984713586216294), ('fantastic', 0.01096796356658615), ('excels', 0.010946072538868618), ('eyes', 0.01092901527296643), ('silver', 0.010911342935418959), ('misses', 0.01089345110953447), ('overly', 0.010840958233416373), ('uses', 0.010840666102396427), ('surely', 0.010838836683563068), ('rolle', 0.010823503224602278), ('boho', 0.010818033807640525), ('slouchy', 0.010775824365647666), ('awkwardness', 0.01076627230252706), ('romantic', 0.010742842661896275), ('contrast', 0.010678978505340811), ('mixing', 0.010678314775335132), ('sewn', 0.010645215685893559), ('pointing', 0.010606958519320921), ('notes', 0.010605377899146147), ('scarf', 0.010576954542075594), ('nude', 0.010551658220856592), ('expense', 0.010533503467840169), ('glad', 0.010529995473852994), ('tummy', 0.010516660574791673), ('discounted', 0.010508852442055407), ('solids', 0.010436092669707181), ('stil', 0.01041418510093618), ('popping', 0.010351700644286987), ('tags', 0.010337519526819404), ('dinners', 0.010311878894718267), ('turning', 0.010298240203546933), ('heights', 0.01029215150605589), ('non', 0.010283821055492345), ('pencil', 0.01027950661480832), ('rayon', 0.010279384725848524), ('coverage', 0.010273117488463825), ('beige', 0.010271306132289746), ('notices', 0.010263480900626171), ('closures', 0.010261698524969049), ('middl', 0.010255518740755339), ('boyfriends', 0.010203191063641329), ('maeve', 0.010189947175952402), ('moms', 0.010185235209941676), ('stunned', 0.010177154248592588), ('picks', 0.01017191203482752), ('lounges', 0.010130226395153177), ('poor', 0.010104730032951545), ('women', 0.010043460441368569), ('tucks', 0.010040119874792182), ('forming', 0.010026272502860888), ('initial', 0.010025192416515052), ('heavier', 0.009984339864640817), ('hung', 0.009977441574537196), ('jersey', 0.009927837352113757), ('supporting', 0.009916539744261972), ('couldn', 0.009892627687268231), ('armhole', 0.009889103688675956), ('featuring', 0.009876991850925864), ('average', 0.009856589764967748), ('xxs', 0.009853205840839523), ('breezy', 0.009848333232165881), ('coral', 0.00982892048066786), ('elastic waistband', 0.009824446042501203), ('takes', 0.009754500969464622), ('simply', 0.009744352141678897), ('accented', 0.009686574731221696), ('everyday', 0.009681993692672017), ('sack', 0.009667189057982462), ('wider', 0.009654275307815373), ('buildings', 0.00965058980956188), ('twists', 0.009606558112356547), ('ones', 0.009596322806266884), ('readings', 0.009577305571011926), ('attaching', 0.00955133097949754), ('meanings', 0.009544246597635003), ('reasonable', 0.009534849480024405), ('half', 0.009520323652004756), ('slit', 0.009517665263614644), ('pill', 0.009487750652470178), ('real', 0.009452481607058392), ('hugged', 0.009447489694979851), ('occasions', 0.00944516573213692), ('slenderizing', 0.009443973773041847), ('fixes', 0.009418912074860706), ('production', 0.009339824527072367), ('shrunk', 0.009332582538076997), ('bohemian', 0.009314619409201003), ('avail', 0.009289570918154338), ('settings', 0.009253049293344506), ('busty', 0.009129197596090795), ('combinations', 0.009113731269897543), ('jewelry', 0.009107657351725537), ('walks', 0.009104142035097813), ('hard', 0.009069677860980185), ('plain', 0.009066883042853576), ('biggest', 0.009023614378697557), ('cooler', 0.009016461584396548), ('boxing', 0.008990543817865898), ('rises', 0.008961725605507396), ('combos', 0.008954218550209005), ('flawed', 0.008952968577214575), ('snagging', 0.008949148544223677), ('breasting', 0.008898316510551221), ('stones', 0.008888366577501873), ('originality', 0.008862201469446763), ('camisoles', 0.008845319346311989), ('chinos', 0.00884233361037952), ('rounded', 0.008808269538095078), ('dropping', 0.008779466328186773), ('silky', 0.008779219455356337), ('home', 0.008773082473226862), ('asymmetric', 0.00876384969764802), ('proportional', 0.008751974740950517), ('hair', 0.00873669569504546), ('flairs', 0.00873446734581807), ('sewing', 0.00871182843821291), ('later', 0.008569811346540146), ('gals', 0.008566649704218228), ('finishings', 0.008561076130097111), ('tenting', 0.008466713063629937), ('sueded', 0.008459279466449846), ('created', 0.008440927236161737), ('surprisingly', 0.008435983189038262), ('shops', 0.008423643709022257), ('outfitter', 0.008415898864675524), ('rennie', 0.008415898864675229), ('holy', 0.008415898864674934), ('stylists', 0.008409719623274399), ('looser', 0.008400094505284084), ('pins', 0.008399459121652674), ('attracting', 0.008387841342841259), ('hidden snap', 0.008361510503602267), ('bummer', 0.008339473177090344), ('christmas', 0.00833863686550999), ('causes', 0.008332921154824563), ('won', 0.008312907556825306), ('construction', 0.008307875376172136), ('hates', 0.008305850913659776), ('terribly', 0.008300479271873815), ('mentioning', 0.008294322092304515), ('gather', 0.008273301013119945), ('majority', 0.008250497474182127), ('busy', 0.008202234469509054), ('cares', 0.008198079009636906), ('hands', 0.008193436631246593), ('waters', 0.008168921648980974), ('crocheted', 0.008159281175126418), ('sided', 0.008132724289109886), ('stain', 0.008128224479130289), ('seen', 0.008126082324256018), ('weave', 0.008120774687086057), ('fur', 0.008118978578815906), ('wedge', 0.008104618780940643), ('unlikely', 0.008099590320041953), ('polyester', 0.008097864918999463), ('rompers', 0.008097615328150771), ('taupe', 0.008088712262715968), ('holds', 0.008088547420779277), ('waited', 0.008075509926430026), ('honestly', 0.008071132781730148), ('bodices', 0.008056478988168088), ('choices', 0.00801972957030241), ('wouldn', 0.007991101467041056), ('doubled', 0.007987571052847274), ('younger', 0.007987521829140426), ('possibly', 0.007987360809445173), ('horribly', 0.007979712368748957), ('butts', 0.007961412491419836), ('pai', 0.007937441656601407), ('imagination', 0.007937237811268344), ('halters', 0.007932497329421445), ('sleeping', 0.007931437386674373), ('lives', 0.007920938436625327), ('soon', 0.007914626162291664), ('rarely', 0.007900939855169481), ('frumpy', 0.00789966596438524), ('cord', 0.007897533626132948), ('free', 0.007871348754861235), ('negatives', 0.00786688388634258), ('funny', 0.007861046959652174), ('tighter', 0.007856718014387918), ('crazy', 0.007836415389320754), ('movements', 0.007823603578386061), ('traditional', 0.007817259492882297), ('hooded', 0.007816825943281145), ('seriously', 0.0077988390870640896), ('tan', 0.0077831037271784646), ('previous', 0.007781456117091942), ('irish', 0.007778474881872546), ('adjustment', 0.007773337294078239), ('ridiculous', 0.007758978551627194), ('relaxing', 0.007754498654501572), ('particularly', 0.007745323473220776), ('throw', 0.007728598565691513), ('checks', 0.007712085391572646), ('hopefully', 0.007620069156032415), ('zips', 0.007576346725459467), ('week', 0.0075718123442420305), ('trips', 0.007546722845381013), ('dye', 0.007542090433334386), ('hemlines', 0.007538107923635987), ('forgiveness', 0.007536812388244556), ('scratchiness', 0.007532028611841597), ('comparing', 0.0075060423136660255), ('outside', 0.007505163381263466), ('hours', 0.007478144377595233), ('tending', 0.007470201358753982), ('gapped', 0.007469129717488428), ('minded', 0.007462564523989203), ('factors', 0.0074605715309860625), ('closer', 0.007459754358458261), ('crossing', 0.007448684070721145), ('attent', 0.00742812303053825), ('taller', 0.007402029217672554), ('hourglass', 0.007393372631770498), ('teal', 0.007392122383026226), ('caught', 0.007387859868964333), ('boys', 0.0073733699072808506), ('include', 0.007372238624237429), ('school', 0.007371938442189899), ('fuller', 0.007322512313112176), ('turquoise', 0.007319112339872695), ('lavender', 0.007310410120661132), ('bum', 0.00729982059857625), ('ships', 0.007262804660231436), ('particulars', 0.007262736753558566), ('hooked', 0.007258130063861299), ('labeling', 0.0072510505995196295), ('uncomfortably', 0.007239470488832248), ('vacation', 0.00722338319668311), ('boobed', 0.007222715247770664), ('gave', 0.00720345113095492), ('posted', 0.007184126237200979), ('swimsuits', 0.007182166535374611), ('wing', 0.007182114272086352), ('travels', 0.007178835462645289), ('local', 0.007172150570085989), ('functions', 0.0071679638356931), ('changing', 0.0071650898798507655), ('plans', 0.007139781110808138), ('yay', 0.007139537057565254), ('maine', 0.007122531748658717), ('parts', 0.007120401918719103), ('dressier', 0.007110177013318583), ('faire', 0.007094066231243367), ('cleans', 0.007078964482265511), ('statement', 0.007069703181201306), ('slimmer', 0.007067917946774587), ('semi', 0.0070616075425160305), ('job', 0.007059833822105227), ('trend', 0.007055991191590761), ('jogger', 0.00704683268162751), ('stands', 0.007044433220300811), ('sticks', 0.007036922337904888), ('self', 0.0070052721482784545), ('justice', 0.006993205384797964), ('twice', 0.006986609259165865), ('friend', 0.0069766976666855674), ('luckily', 0.006964676995805948), ('ddd', 0.006951189439031987), ('daughters', 0.006948347515203483), ('ags', 0.006925606086690884), ('references', 0.006914689788356367), ('sleeveless', 0.006904436218406825), ('cardi', 0.0068856957428865), ('clingy', 0.006863241275220347), ('pajamas', 0.006846711269772782), ('liners', 0.006837188806763531), ('measur', 0.006822575275714158), ('retro', 0.006819429559449555), ('centered', 0.00681880617922829), ('marks', 0.0068154191995732), ('aqua', 0.0068153340833315024), ('okay', 0.006809042325410932), ('taken', 0.0067958044026122655), ('quirkiness', 0.006786394150077737), ('alteration', 0.006777520623711892), ('accessory', 0.006771331267356735), ('carries', 0.006762779713909489), ('softest', 0.006746887952498234), ('modernity', 0.006738673998125506), ('apart', 0.006726992190770815), ('deciding', 0.006720129969460267), ('cleavage', 0.006717774354930894), ('fan', 0.00671524217730019), ('yesterday', 0.006706631858777379), ('thinner', 0.006698105220419064), ('muted', 0.006697303052709433), ('fades', 0.006668798245365233), ('sweet', 0.006658207006155283), ('positives', 0.006649037169336922), ('ribbons', 0.006647527378841572), ('aren', 0.006639241479975579), ('slack', 0.006613058788355442), ('decently', 0.006609583314273421), ('pre', 0.0066018644876860684), ('kinda', 0.006595604325207334), ('closet', 0.006589017727914568), ('shapeless', 0.0065876544646875125), ('house', 0.006584934614381463), ('early', 0.006582423438927074), ('tasseled', 0.006577553472761388), ('plays', 0.006568863133722409), ('upcoming', 0.006562674813163627), ('dance', 0.006538018828683089), ('pregnant', 0.006521375965613292), ('description', 0.006515832339119919), ('drapey', 0.006507109383229123), ('faux', 0.006507020947842316), ('imaging', 0.006488647787399169), ('boring', 0.006479384872588807), ('follow', 0.006469910756854518), ('accurately', 0.006461096976390766), ('florida', 0.006439654203433712), ('smelled', 0.00642206401404304), ('couple', 0.0064105213684281966), ('commented', 0.006405732889918348), ('classes', 0.006385546890556998), ('placement', 0.006384811555991903), ('headed', 0.0063606744760620355), ('excitement', 0.006353590275883703), ('effortless', 0.006351622632094285), ('background', 0.006341424713928652), ('folded', 0.006324249495052654), ('panel', 0.006321513743533744), ('forward', 0.006311590904339154), ('mint', 0.006310818048842968), ('watched', 0.00631066558394708), ('single', 0.006307637634677961), ('unusually', 0.006307278570000506), ('alternations', 0.006306777409750247), ('quickly', 0.0063024692438389575), ('skim', 0.006291557369276445), ('gapes', 0.006269346257171439), ('dealing', 0.006267480581755126), ('potentially', 0.0062453121061339135), ('string', 0.006241672995591124), ('far', 0.0062290812247744924), ('sending', 0.006220906027140756), ('sequined', 0.006208941733590059), ('loops', 0.0062077926392745016), ('air', 0.006199303779115908), ('appealed', 0.006185375479415254), ('muscular', 0.006181237763001531), ('formality', 0.006169497130338196), ('timeless', 0.006165046657457841), ('lost', 0.00616093450416467), ('paid', 0.006137286737833803), ('pads', 0.00613671555953914), ('awful', 0.006130119711056476), ('roses', 0.006121182694496944), ('pro', 0.006119719569809141), ('fresh', 0.006112121115323341), ('bath', 0.006102655082319607), ('located', 0.006072689196645367), ('sock', 0.006069104558041101), ('exposes', 0.006066636268401537), ('woven', 0.006057118136056485), ('state', 0.006032406877684104), ('rough', 0.006030350624062953), ('instantly', 0.00602995331129116), ('cutest', 0.006027502853980868), ('meetings', 0.006022117902819592), ('games', 0.006001376570457369), ('gotten', 0.005998775691666413), ('numbers', 0.005988470016311998), ('british', 0.005983852838413241), ('fuzzy', 0.005957033631324681), ('hesitated', 0.005946860983607684), ('agreeing', 0.005946716644361684), ('bones', 0.005931508566797089), ('widths', 0.0059255743460776495), ('enhanced', 0.0059115775983269595), ('allowance', 0.00590751163406756), ('cutouts', 0.005899889811971808), ('belling', 0.005884971010929751), ('ironing', 0.005883156826654382), ('strappiness', 0.005874285359623632), ('bold', 0.005868532312295574), ('bulging', 0.005860381309893682), ('excessively', 0.0058541184840385065), ('spandex', 0.005834925106675719), ('trouble', 0.005815689646842397), ('sturdy', 0.005815309283607228), ('teh', 0.005803180592106738), ('kimonos', 0.00578998654802271), ('money', 0.00578928911923016), ('properly', 0.005769390801430183), ('dated', 0.005769148373111956), ('letting', 0.0057670621824489005), ('mammoth', 0.005765736213511389), ('wooly', 0.0057657362135113185), ('named', 0.005765736213511305), ('yiddish', 0.005765736213511265), ('persimmon orangey', 0.0057657362135112595), ('aptly', 0.005765736213511241), ('everthing', 0.0057657362135112395), ('vice versa', 0.005765736213511238), ('trainers whip', 0.005765736213511237), ('shmata', 0.00576573621351123), ('joy', 0.005765736213511214), ('kentucky oaks', 0.005765736213511212), ('roger walters', 0.005765736213511211), ('ebenezer', 0.0057657362135111944), ('costa rica', 0.00576573621351119), ('mont', 0.00576573621351117), ('physically recoiled', 0.0057657362135111676), ('toy', 0.005765736213511159), ('blanc', 0.005765736213511145), ('kiddos baseball', 0.005765736213511145), ('scrooge', 0.0057657362135111415), ('ore bendable', 0.005765736213511138), ('aame apttern', 0.005765736213511126), ('hoisted', 0.005765736213511121), ('loom', 0.005765736213511111), ('nightmare', 0.0057657362135110956), ('coke', 0.005765736213511074), ('awaiting', 0.005765736213511055), ('sparks', 0.005765736213511049), ('antebellum', 0.005765736213511033), ('cinque terre', 0.0057657362135110244), ('amelia bedelia', 0.005765736213511011), ('mia farrow', 0.005765736213510998), ('poured bleach', 0.005765736213510963), ('eagerly', 0.005765736213510962), ('mathced', 0.005765736213510935), ('seafolly', 0.005765736213510924), ('huhm', 0.005765736213510908), ('teaching', 0.005765736213510875), ('tirst', 0.005765736213510868), ('mystery', 0.005765736213510864)]\n"
     ]
    }
   ],
   "source": [
    "print(gensim.summarization.keywords(txt, ratio=0.2, words=None, split=True, scores=True, \n",
    "                                       pos_filter=('NN', 'JJ'), lemmatize=True, deacc=True))"
   ]
  },
  {
   "cell_type": "markdown",
   "metadata": {},
   "source": [
    "## Word2Vec"
   ]
  },
  {
   "cell_type": "code",
   "execution_count": 75,
   "metadata": {},
   "outputs": [],
   "source": [
    "model_location = '/Users/jingtingzhang/Documents/Insight2018_2/scripts/'\n",
    "model = gensim.models.KeyedVectors.load_word2vec_format('GoogleNews-vectors-negative300.bin', binary=True, limit = 1000000)"
   ]
  },
  {
   "cell_type": "code",
   "execution_count": 76,
   "metadata": {},
   "outputs": [
    {
     "name": "stderr",
     "output_type": "stream",
     "text": [
      "/Users/jingtingzhang/anaconda3/lib/python3.6/site-packages/ipykernel_launcher.py:2: DeprecationWarning: Call to deprecated `wv` (Attribute will be removed in 4.0.0, use self instead).\n",
      "  \n"
     ]
    },
    {
     "data": {
      "text/plain": [
       "[('sized', 0.6793718934059143),\n",
       " ('Size', 0.6218184232711792),\n",
       " ('sizes', 0.6117527484893799),\n",
       " ('4_chars', 0.5373417735099792),\n",
       " ('height', 0.528750479221344),\n",
       " ('width', 0.5177116394042969),\n",
       " ('larger', 0.5073246955871582),\n",
       " ('small', 0.496220201253891),\n",
       " ('smaller', 0.49511170387268066),\n",
       " ('girth', 0.49143078923225403)]"
      ]
     },
     "execution_count": 76,
     "metadata": {},
     "output_type": "execute_result"
    }
   ],
   "source": [
    "w1=\"size\"\n",
    "model.wv.most_similar(positive=w1)"
   ]
  },
  {
   "cell_type": "code",
   "execution_count": null,
   "metadata": {},
   "outputs": [],
   "source": [
    "# # for sentence in review:\n",
    "# #     word=sentence.split(' ')\n",
    "#     for word in sentences:\n",
    "#         word2vec = Word2Vec(sentences=review,\n",
    "#                     size=vector_size, \n",
    "#                     window=window_size, \n",
    "#                     negative=20,\n",
    "#                     iter=50,\n",
    "#                     seed=1000)  \n",
    "# #         print(word)\n",
    "# word2vec.save(model_location + 'word2vec.model')"
   ]
  },
  {
   "cell_type": "code",
   "execution_count": 77,
   "metadata": {},
   "outputs": [
    {
     "name": "stderr",
     "output_type": "stream",
     "text": [
      "/Users/jingtingzhang/anaconda3/lib/python3.6/site-packages/ipykernel_launcher.py:2: DeprecationWarning: Call to deprecated `wv` (Attribute will be removed in 4.0.0, use self instead).\n",
      "  \n"
     ]
    },
    {
     "data": {
      "text/plain": [
       "[('colors', 0.6966161131858826),\n",
       " ('Color', 0.6928340792655945),\n",
       " ('vibrant_colors', 0.6224876046180725),\n",
       " ('hues', 0.613426148891449),\n",
       " ('color_palette', 0.6065829992294312),\n",
       " ('colored', 0.5960179567337036),\n",
       " ('skintone', 0.5772755742073059),\n",
       " ('Colour', 0.5770692825317383),\n",
       " ('reds_greens', 0.5723066329956055),\n",
       " ('bright_colors', 0.5709342956542969)]"
      ]
     },
     "execution_count": 77,
     "metadata": {},
     "output_type": "execute_result"
    }
   ],
   "source": [
    "w2=\"color\"\n",
    "model.wv.most_similar(positive=w2)"
   ]
  },
  {
   "cell_type": "code",
   "execution_count": 78,
   "metadata": {},
   "outputs": [],
   "source": [
    "import multiprocessing\n",
    "from scipy import spatial"
   ]
  },
  {
   "cell_type": "code",
   "execution_count": 79,
   "metadata": {},
   "outputs": [
    {
     "name": "stderr",
     "output_type": "stream",
     "text": [
      "/Users/jingtingzhang/anaconda3/lib/python3.6/site-packages/ipykernel_launcher.py:1: DeprecationWarning: Call to deprecated `wv` (Attribute will be removed in 4.0.0, use self instead).\n",
      "  \"\"\"Entry point for launching an IPython kernel.\n"
     ]
    }
   ],
   "source": [
    "index2word_set = set(model.wv.index2word)\n",
    "\n",
    "def avg_feature_vector(sentence, model, num_features, index2word_set):\n",
    "    words = sentence.split()\n",
    "    feature_vec = np.zeros((num_features, ), dtype='float32')\n",
    "    n_words = 0\n",
    "    for word in words:\n",
    "        if word in index2word_set:\n",
    "            n_words += 1\n",
    "            feature_vec = np.add(feature_vec, model[word])\n",
    "    if (n_words > 0):\n",
    "        feature_vec = np.divide(feature_vec, n_words)\n",
    "    return feature_vec"
   ]
  },
  {
   "cell_type": "code",
   "execution_count": 80,
   "metadata": {},
   "outputs": [
    {
     "name": "stdout",
     "output_type": "stream",
     "text": [
      "0        0.128292\n",
      "1        0.343448\n",
      "2        0.502368\n",
      "3        0.152768\n",
      "4        0.245637\n",
      "5        0.369772\n",
      "6        0.364145\n",
      "7        0.401852\n",
      "8        0.427592\n",
      "9        0.417269\n",
      "10       0.330217\n",
      "11       0.221054\n",
      "12       0.297173\n",
      "13       0.356436\n",
      "14       0.587446\n",
      "15       0.412468\n",
      "16       0.500779\n",
      "17       0.273112\n",
      "18       0.270927\n",
      "19       0.320272\n",
      "20       0.392885\n",
      "21       0.408740\n",
      "22       0.332469\n",
      "23       0.398852\n",
      "24       0.246015\n",
      "25       0.390827\n",
      "26       0.381579\n",
      "27       0.343771\n",
      "28       0.151329\n",
      "29       0.341943\n",
      "           ...   \n",
      "23456    0.285270\n",
      "23457    0.287747\n",
      "23458    0.203342\n",
      "23459    0.409819\n",
      "23460    0.334439\n",
      "23461    0.375842\n",
      "23462    0.300047\n",
      "23463    0.417554\n",
      "23464    0.294014\n",
      "23465    0.284313\n",
      "23466    0.310716\n",
      "23467    0.454514\n",
      "23468    0.384914\n",
      "23469    0.564453\n",
      "23470    0.027628\n",
      "23471    0.274244\n",
      "23472    0.247393\n",
      "23473    0.368170\n",
      "23474    0.308946\n",
      "23475    0.330754\n",
      "23476    0.314566\n",
      "23477    0.424118\n",
      "23478    0.264588\n",
      "23479    0.356463\n",
      "23480    0.027628\n",
      "23481    0.322047\n",
      "23482    0.262010\n",
      "23483    0.253347\n",
      "23484    0.349415\n",
      "23485    0.267609\n",
      "Name: sim_size, Length: 23486, dtype: float64\n"
     ]
    }
   ],
   "source": [
    "sim_size=[]\n",
    "w1=\"size\"\n",
    "w1_afv = avg_feature_vector(w1, model=model, num_features=300, index2word_set=index2word_set)\n",
    "for sentence in df['tokenized_unlist']:\n",
    "    sentence_afv = avg_feature_vector(sentence, model=model, num_features=300, index2word_set=index2word_set)\n",
    "    sim_size.append(1 - spatial.distance.cosine(sentence_afv, w1_afv)) \n",
    "df['sim_size']=pd.Series(sim_size)\n",
    "print(df['sim_size'])"
   ]
  },
  {
   "cell_type": "code",
   "execution_count": 81,
   "metadata": {},
   "outputs": [
    {
     "name": "stdout",
     "output_type": "stream",
     "text": [
      "0        0.287109\n",
      "1        0.277545\n",
      "2        0.328593\n",
      "3        0.305439\n",
      "4        0.364290\n",
      "5        0.427708\n",
      "6        0.431552\n",
      "7        0.461118\n",
      "8        0.386699\n",
      "9        0.353988\n",
      "10       0.305851\n",
      "11       0.334203\n",
      "12       0.404584\n",
      "13       0.327311\n",
      "14       0.353804\n",
      "15       0.348991\n",
      "16       0.362369\n",
      "17       0.383756\n",
      "18       0.297999\n",
      "19       0.361951\n",
      "20       0.303153\n",
      "21       0.400794\n",
      "22       0.286500\n",
      "23       0.349854\n",
      "24       0.365069\n",
      "25       0.304109\n",
      "26       0.378608\n",
      "27       0.522996\n",
      "28       0.240646\n",
      "29       0.431454\n",
      "           ...   \n",
      "23456    0.327734\n",
      "23457    0.348564\n",
      "23458    0.346779\n",
      "23459    0.352636\n",
      "23460    0.335671\n",
      "23461    0.373819\n",
      "23462    0.382194\n",
      "23463    0.295928\n",
      "23464    0.461235\n",
      "23465    0.299242\n",
      "23466    0.250146\n",
      "23467    0.429142\n",
      "23468    0.369243\n",
      "23469    0.414229\n",
      "23470    0.033588\n",
      "23471    0.332909\n",
      "23472    0.388096\n",
      "23473    0.297951\n",
      "23474    0.422599\n",
      "23475    0.352857\n",
      "23476    0.331078\n",
      "23477    0.509661\n",
      "23478    0.332380\n",
      "23479    0.453556\n",
      "23480    0.033588\n",
      "23481    0.461965\n",
      "23482    0.369895\n",
      "23483    0.231689\n",
      "23484    0.301101\n",
      "23485    0.382753\n",
      "Name: sim_color, Length: 23486, dtype: float64\n"
     ]
    }
   ],
   "source": [
    "sim_color=[]\n",
    "w2=\"color\"\n",
    "w2_afv = avg_feature_vector(w2, model=model, num_features=300, index2word_set=index2word_set)\n",
    "for sentence in df['tokenized_unlist']:\n",
    "    sentence_afv = avg_feature_vector(sentence, model=model, num_features=300, index2word_set=index2word_set)\n",
    "    sim_color.append(1 - spatial.distance.cosine(sentence_afv, w2_afv)) \n",
    "df['sim_color']=pd.Series(sim_color)\n",
    "print(df.sim_color)"
   ]
  },
  {
   "cell_type": "code",
   "execution_count": 82,
   "metadata": {},
   "outputs": [
    {
     "data": {
      "image/png": "[encoded data removed]",
      "text/plain": [
       "<Figure size 432x432 with 1 Axes>"
      ]
     },
     "metadata": {},
     "output_type": "display_data"
    }
   ],
   "source": [
    "from wordcloud import WordCloud\n",
    "wordcloud = WordCloud(max_words=400, background_color=\"white\").generate(txt)\n",
    "# Display the generated image\n",
    "plt.imshow(wordcloud, interpolation='bilinear')\n",
    "plt.axis(\"off\")\n",
    "plt.margins(x=0, y=0)\n",
    "# plt.show()\n",
    "plt.savefig(\"plot_wordcloud_keywords.png\")"
   ]
  },
  {
   "cell_type": "code",
   "execution_count": 83,
   "metadata": {},
   "outputs": [
    {
     "name": "stdout",
     "output_type": "stream",
     "text": [
      "word_vectors_matrix shape is  (23486, 300)\n"
     ]
    }
   ],
   "source": [
    "from __future__ import absolute_import, division, print_function\n",
    "import numpy as np\n",
    "count = len(df)\n",
    "word_vectors_matrix = np.ndarray(shape=(count, 300), dtype='float64')\n",
    "word_list = []\n",
    "i = 0\n",
    "for word in model.vocab:\n",
    "    word_vectors_matrix[i] = model[word]\n",
    "    word_list.append(word)\n",
    "    i = i+1\n",
    "    if i == count:\n",
    "        break\n",
    "print(\"word_vectors_matrix shape is \", word_vectors_matrix.shape)"
   ]
  },
  {
   "cell_type": "code",
   "execution_count": 84,
   "metadata": {},
   "outputs": [
    {
     "name": "stdout",
     "output_type": "stream",
     "text": [
      "word_vectors_matrix_2d shape is  (23486, 2)\n"
     ]
    }
   ],
   "source": [
    "#Compress word vectors into 2D space\n",
    "import sklearn.decomposition\n",
    "pca= sklearn.decomposition.PCA(n_components=2, random_state=0)\n",
    "word_vectors_matrix_2d = pca.fit_transform(word_vectors_matrix)\n",
    "print(\"word_vectors_matrix_2d shape is \", word_vectors_matrix_2d.shape)"
   ]
  },
  {
   "cell_type": "code",
   "execution_count": 85,
   "metadata": {},
   "outputs": [],
   "source": [
    "for i in df.index:\n",
    "    if  -0.05 < (sim_size[i]-sim_color[i]) < 0.05:\n",
    "        df.loc[i, \"clothingfeature\"] = \"both\"\n",
    "    elif (sim_size[i]-sim_color[i]) > 0.05:\n",
    "        df.loc[i, \"clothingfeature\"] = \"size\"\n",
    "    else:\n",
    "        df.loc[i, \"clothingfeature\"] = “color”"
   ]
  },
  {
   "cell_type": "code",
   "execution_count": 86,
   "metadata": {},
   "outputs": [
    {
     "name": "stdout",
     "output_type": "stream",
     "text": [
      "[nltk_data] Downloading package vader_lexicon to\n",
      "[nltk_data]     /Users/jingtingzhang/nltk_data...\n",
      "[nltk_data]   Package vader_lexicon is already up-to-date!\n"
     ]
    },
    {
     "data": {
      "text/plain": [
       "True"
      ]
     },
     "execution_count": 86,
     "metadata": {},
     "output_type": "execute_result"
    }
   ],
   "source": [
    "nltk.download(\"vader_lexicon\")"
   ]
  },
  {
   "cell_type": "code",
   "execution_count": 88,
   "metadata": {},
   "outputs": [],
   "source": [
    "# Pre-Processing\n",
    "SIA = SentimentIntensityAnalyzer()\n",
    "\n",
    "# Applying Model, Variable Creation\n",
    "df[\"Polarity Score\"] = df[\"tokenized_unlist\"].apply(lambda x:SIA.polarity_scores(x)[\"compound\"])\n",
    "df[\"Neutral Score\"] = df[\"tokenized_unlist\"].apply(lambda x:SIA.polarity_scores(x)[\"neu\"])\n",
    "df[\"Negative Score\"] = df[\"tokenized_unlist\"].apply(lambda x:SIA.polarity_scores(x)[\"neg\"])\n",
    "df[\"Positive Score\"] = df[\"tokenized_unlist\"].apply(lambda x:SIA.polarity_scores(x)[\"pos\"])\n",
    "\n",
    "# Converting 0 to 1 Decimal Score to a Categorical Variable\n",
    "df[\"Sentiment\"] = ''\n",
    "df.loc[df[\"Polarity Score\"] > 0,'Sentiment'] = \"Positive\"\n",
    "df.loc[df[\"Polarity Score\"] == 0,'Sentiment'] = \"Neutral\"\n",
    "df.loc[df[\"Polarity Score\"] < 0,'Sentiment'] = \"Negative\""
   ]
  },
  {
   "cell_type": "code",
   "execution_count": 90,
   "metadata": {},
   "outputs": [],
   "source": [
    "conditions = [\n",
    "    df[\"Sentiment\"] == \"Positive\",\n",
    "    df[\"Sentiment\"] == \"Negative\",\n",
    "    df[\"Sentiment\"] == \"Neutral\"]\n",
    "choices = [1,-1,0]\n",
    "df[\"label\"] = np.select(conditions, choices)\n",
    "pd.set_option(\"display.max_columns\", 100)\n",
    "#df.head()"
   ]
  },
  {
   "cell_type": "code",
   "execution_count": 91,
   "metadata": {},
   "outputs": [
    {
     "data": {
      "text/plain": [
       "<matplotlib.axes._subplots.AxesSubplot at 0x1c4b4fe0b8>"
      ]
     },
     "execution_count": 91,
     "metadata": {},
     "output_type": "execute_result"
    },
    {
     "data": {
      "image/png": "[encoded data removed]",
      "text/plain": [
       "<Figure size 720x360 with 1 Axes>"
      ]
     },
     "metadata": {},
     "output_type": "display_data"
    }
   ],
   "source": [
    "plt.figure(figsize=(10,5))\n",
    "sns.boxplot(x = \"clothingfeature\", y = \"Polarity Score\", data = df)"
   ]
  },
  {
   "cell_type": "code",
   "execution_count": 92,
   "metadata": {},
   "outputs": [],
   "source": [
    "df_color = df[df.loc[:, \"clothingfeature\"]==\"color\"]"
   ]
  },
  {
   "cell_type": "code",
   "execution_count": 93,
   "metadata": {},
   "outputs": [],
   "source": [
    "df_size = df[df.loc[:, \"clothingfeature\"]==\"size\"]"
   ]
  },
  {
   "cell_type": "code",
   "execution_count": 94,
   "metadata": {},
   "outputs": [
    {
     "name": "stdout",
     "output_type": "stream",
     "text": [
      "Found 8535 unique tokens.\n"
     ]
    }
   ],
   "source": [
    "############ Train df_color ###############\n",
    "samples = df_color[\"tokenized_unlist\"].tolist()\n",
    "maxlen = 100 \n",
    "max_words = 10000\n",
    "tokenizer = Tokenizer(num_words=max_words)\n",
    "tokenizer.fit_on_texts(samples)\n",
    "sequences = tokenizer.texts_to_sequences(samples)\n",
    "word_index = tokenizer.word_index\n",
    "print(\"Found %s unique tokens.\" % len(word_index))\n",
    "data = pad_sequences(sequences, maxlen = maxlen)"
   ]
  },
  {
   "cell_type": "code",
   "execution_count": 95,
   "metadata": {},
   "outputs": [
    {
     "name": "stdout",
     "output_type": "stream",
     "text": [
      "Shape of data tensor: (8389, 100)\n",
      "Shape of label tensor: (8389,)\n"
     ]
    }
   ],
   "source": [
    "labels = np.asarray(df_color[\"label\"].values)\n",
    "print(\"Shape of data tensor:\", data.shape)\n",
    "print(\"Shape of label tensor:\", labels.shape)"
   ]
  },
  {
   "cell_type": "code",
   "execution_count": 96,
   "metadata": {},
   "outputs": [
    {
     "name": "stdout",
     "output_type": "stream",
     "text": [
      "[7309  341 7361 ... 1698 3067   19]\n"
     ]
    }
   ],
   "source": [
    "indices = np.arange(df_color.shape[0])\n",
    "np.random.shuffle(indices)\n",
    "print(indices)"
   ]
  },
  {
   "cell_type": "code",
   "execution_count": 97,
   "metadata": {},
   "outputs": [
    {
     "name": "stdout",
     "output_type": "stream",
     "text": [
      "[[   0    0    0 ...   37  212   27]\n",
      " [   0    0    0 ...  116  228   11]\n",
      " [   0    0    0 ... 2587   20  130]\n",
      " ...\n",
      " [   0    0    0 ...   12  909  910]\n",
      " [   0    0    0 ...   55  679  699]\n",
      " [   0    0    0 ...   50   57   13]]\n"
     ]
    }
   ],
   "source": [
    "data = data[indices]\n",
    "labels = labels[indices]\n",
    "print(data)"
   ]
  },
  {
   "cell_type": "code",
   "execution_count": 98,
   "metadata": {},
   "outputs": [],
   "source": [
    "training_samples = 5871\n",
    "validation_samples = 8807 #2936\n",
    "x_train = data[:training_samples]\n",
    "y_train = labels[:training_samples]\n",
    "x_val = data[training_samples: validation_samples] \n",
    "y_val = labels[training_samples: validation_samples]\n",
    "x_test = data[validation_samples:]\n",
    "y_test = labels[validation_samples:]\n",
    "x_train = pad_sequences(x_train, maxlen=maxlen)\n",
    "x_val = pad_sequences(x_val, maxlen=maxlen)\n",
    "#return x_train"
   ]
  },
  {
   "cell_type": "code",
   "execution_count": 99,
   "metadata": {},
   "outputs": [
    {
     "name": "stdout",
     "output_type": "stream",
     "text": [
      "_________________________________________________________________\n",
      "Layer (type)                 Output Shape              Param #   \n",
      "=================================================================\n",
      "embedding_1 (Embedding)      (None, 100, 100)          1000000   \n",
      "_________________________________________________________________\n",
      "flatten_1 (Flatten)          (None, 10000)             0         \n",
      "_________________________________________________________________\n",
      "dense_1 (Dense)              (None, 64)                640064    \n",
      "_________________________________________________________________\n",
      "dense_2 (Dense)              (None, 32)                2080      \n",
      "_________________________________________________________________\n",
      "dense_3 (Dense)              (None, 1)                 33        \n",
      "=================================================================\n",
      "Total params: 1,642,177\n",
      "Trainable params: 1,642,177\n",
      "Non-trainable params: 0\n",
      "_________________________________________________________________\n",
      "Train on 5871 samples, validate on 2518 samples\n",
      "Epoch 1/5\n",
      "5871/5871 [==============================] - 2s 283us/step - loss: 0.1830 - acc: 0.9758 - val_loss: 0.1554 - val_acc: 0.9754\n",
      "Epoch 2/5\n",
      "5871/5871 [==============================] - 1s 221us/step - loss: 0.0798 - acc: 0.9729 - val_loss: 0.1877 - val_acc: 0.9742\n",
      "Epoch 3/5\n",
      "5871/5871 [==============================] - 1s 212us/step - loss: -0.0232 - acc: 0.9690 - val_loss: 0.2848 - val_acc: 0.9714\n",
      "Epoch 4/5\n",
      "5871/5871 [==============================] - 1s 228us/step - loss: -0.1918 - acc: 0.9681 - val_loss: 0.3773 - val_acc: 0.9690\n",
      "Epoch 5/5\n",
      "5871/5871 [==============================] - 1s 214us/step - loss: -0.2707 - acc: 0.9748 - val_loss: 0.3716 - val_acc: 0.9583\n"
     ]
    }
   ],
   "source": [
    "def build_model():\n",
    "    model = Sequential()\n",
    "    model.add(Embedding(max_words, 100, input_length=maxlen))\n",
    "    model.add(Flatten())\n",
    "    model.add(Dense(64, activation = \"relu\"))\n",
    "    model.add(Dense(32, activation = \"relu\"))\n",
    "    model.add(Dense(1, activation = \"sigmoid\"))\n",
    "    model.compile(optimizer = \"rmsprop\",\n",
    "              loss = \"binary_crossentropy\",\n",
    "              metrics = [\"acc\"])\n",
    "    return model\n",
    "\n",
    "model = build_model()\n",
    "model.summary()\n",
    "history = model.fit(x_train, y_train,\n",
    "                    epochs=5,\n",
    "                    batch_size=40,\n",
    "                    validation_data=(x_val, y_val))\n",
    "\n",
    "model.save(\"model1.h5\")"
   ]
  },
  {
   "cell_type": "code",
   "execution_count": 100,
   "metadata": {},
   "outputs": [],
   "source": [
    "acc = history.history[\"acc\"]\n",
    "val_acc = history.history[\"val_acc\"]\n",
    "loss = history.history[\"loss\"]\n",
    "val_loss = history.history[\"val_loss\"]\n",
    "epochs = range(1, len(acc) + 1)"
   ]
  },
  {
   "cell_type": "code",
   "execution_count": 101,
   "metadata": {},
   "outputs": [
    {
     "data": {
      "text/plain": [
       "[]"
      ]
     },
     "execution_count": 101,
     "metadata": {},
     "output_type": "execute_result"
    }
   ],
   "source": [
    "model.evaluate(x_test, y_test)"
   ]
  },
  {
   "cell_type": "markdown",
   "metadata": {},
   "source": [
    "### RNN Model for Size"
   ]
  },
  {
   "cell_type": "code",
   "execution_count": 102,
   "metadata": {},
   "outputs": [
    {
     "name": "stdout",
     "output_type": "stream",
     "text": [
      "_________________________________________________________________\n",
      "Layer (type)                 Output Shape              Param #   \n",
      "=================================================================\n",
      "embedding_2 (Embedding)      (None, 100, 100)          1000000   \n",
      "_________________________________________________________________\n",
      "simple_rnn_1 (SimpleRNN)     (None, 32)                4256      \n",
      "_________________________________________________________________\n",
      "dense_4 (Dense)              (None, 1)                 33        \n",
      "=================================================================\n",
      "Total params: 1,004,289\n",
      "Trainable params: 1,004,289\n",
      "Non-trainable params: 0\n",
      "_________________________________________________________________\n",
      "Train on 5871 samples, validate on 2518 samples\n",
      "Epoch 1/5\n",
      "5871/5871 [==============================] - 5s 870us/step - loss: 0.2082 - acc: 0.9653 - val_loss: 0.1784 - val_acc: 0.9754\n",
      "Epoch 2/5\n",
      "5871/5871 [==============================] - 5s 797us/step - loss: 0.1434 - acc: 0.9739 - val_loss: 0.1404 - val_acc: 0.9742\n",
      "Epoch 3/5\n",
      "5871/5871 [==============================] - 4s 747us/step - loss: 0.0653 - acc: 0.9719 - val_loss: 0.1468 - val_acc: 0.9678\n",
      "Epoch 4/5\n",
      "5871/5871 [==============================] - 5s 768us/step - loss: 0.0079 - acc: 0.9727 - val_loss: 0.1483 - val_acc: 0.9480\n",
      "Epoch 5/5\n",
      "5871/5871 [==============================] - 5s 774us/step - loss: -0.0441 - acc: 0.9726 - val_loss: 0.1993 - val_acc: 0.9666\n"
     ]
    }
   ],
   "source": [
    "######################## RNN ########################\n",
    "def build_RNN():\n",
    "    model = Sequential() \n",
    "    model.add(Embedding(max_words, 100, input_length = maxlen)) \n",
    "    #model.add(SimpleRNN(32, return_sequences=True))\n",
    "    model.add(SimpleRNN(32)) \n",
    "    model.add(Dense(1, activation = \"sigmoid\"))\n",
    "    model.compile(optimizer = \"rmsprop\", loss = \"binary_crossentropy\", metrics = [\"acc\"]) \n",
    "    return model\n",
    "\n",
    "model = build_RNN()\n",
    "model.summary()\n",
    "history_RNN = model.fit(x_train, y_train,\n",
    "                    epochs = 5,\n",
    "                    batch_size = 40,\n",
    "                    validation_data = (x_val, y_val))\n",
    "\n",
    "model.save(\"model_RNN.h5\")"
   ]
  },
  {
   "cell_type": "code",
   "execution_count": 103,
   "metadata": {},
   "outputs": [],
   "source": [
    "acc = history_RNN.history[\"acc\"]\n",
    "val_acc = history_RNN.history[\"val_acc\"]\n",
    "loss = history_RNN.history[\"loss\"]\n",
    "val_loss = history_RNN.history[\"val_loss\"]\n",
    "epochs = range(1, len(acc) + 1)"
   ]
  },
  {
   "cell_type": "code",
   "execution_count": 104,
   "metadata": {},
   "outputs": [
    {
     "data": {
      "text/plain": [
       "[]"
      ]
     },
     "execution_count": 104,
     "metadata": {},
     "output_type": "execute_result"
    }
   ],
   "source": [
    "model.evaluate(x_test, y_test)"
   ]
  },
  {
   "cell_type": "code",
   "execution_count": 105,
   "metadata": {},
   "outputs": [
    {
     "name": "stdout",
     "output_type": "stream",
     "text": [
      "Found 6737 unique tokens.\n"
     ]
    }
   ],
   "source": [
    "############ Classify Sentiment for the Size Clothing Feature ###############\n",
    "samples = df_size[\"tokenized_unlist\"].tolist()\n",
    "maxlen = 100 \n",
    "max_words = 10000\n",
    "tokenizer = Tokenizer(num_words=max_words)\n",
    "tokenizer.fit_on_texts(samples)\n",
    "sequences = tokenizer.texts_to_sequences(samples)\n",
    "word_index = tokenizer.word_index\n",
    "print(\"Found %s unique tokens.\" % len(word_index))\n",
    "data = pad_sequences(sequences, maxlen = maxlen)"
   ]
  },
  {
   "cell_type": "code",
   "execution_count": 106,
   "metadata": {},
   "outputs": [
    {
     "name": "stdout",
     "output_type": "stream",
     "text": [
      "Shape of data tensor: (5862, 100)\n",
      "Shape of label tensor: (5862,)\n"
     ]
    }
   ],
   "source": [
    "labels = np.asarray(df_size[\"label\"].values)\n",
    "print(\"Shape of data tensor:\", data.shape)\n",
    "print(\"Shape of label tensor:\", labels.shape)"
   ]
  },
  {
   "cell_type": "code",
   "execution_count": 107,
   "metadata": {},
   "outputs": [
    {
     "name": "stdout",
     "output_type": "stream",
     "text": [
      "[3632 4694 5082 ... 5537 4946 2962]\n"
     ]
    }
   ],
   "source": [
    "indices = np.arange(df_size.shape[0])\n",
    "np.random.shuffle(indices)\n",
    "print(indices)"
   ]
  },
  {
   "cell_type": "code",
   "execution_count": 108,
   "metadata": {},
   "outputs": [
    {
     "name": "stdout",
     "output_type": "stream",
     "text": [
      "[[   0    0    0 ...  431   45    1]\n",
      " [   0    0    0 ...   40 1078 1484]\n",
      " [   0    0    0 ...   63   98  233]\n",
      " ...\n",
      " [   0    0    0 ...   97  395    1]\n",
      " [   0    0    0 ...  131  656 6312]\n",
      " [   0    0    0 ...  912 1319 1912]]\n"
     ]
    }
   ],
   "source": [
    "data = data[indices]\n",
    "labels = labels[indices]\n",
    "print(data)"
   ]
  },
  {
   "cell_type": "code",
   "execution_count": 109,
   "metadata": {},
   "outputs": [],
   "source": [
    "training_samples = 5871\n",
    "validation_samples = 8807\n",
    "x_train = data[:training_samples]\n",
    "y_train = labels[:training_samples]\n",
    "x_val = data[training_samples: validation_samples] \n",
    "y_val = labels[training_samples: validation_samples]\n",
    "x_test = data[validation_samples:]\n",
    "y_test = labels[validation_samples:]\n",
    "x_train = pad_sequences(x_train, maxlen=maxlen)\n",
    "x_val = pad_sequences(x_val, maxlen=maxlen)\n",
    "#return x_train"
   ]
  },
  {
   "cell_type": "code",
   "execution_count": 110,
   "metadata": {},
   "outputs": [
    {
     "name": "stdout",
     "output_type": "stream",
     "text": [
      "_________________________________________________________________\n",
      "Layer (type)                 Output Shape              Param #   \n",
      "=================================================================\n",
      "embedding_3 (Embedding)      (None, 100, 100)          1000000   \n",
      "_________________________________________________________________\n",
      "flatten_2 (Flatten)          (None, 10000)             0         \n",
      "_________________________________________________________________\n",
      "dense_5 (Dense)              (None, 64)                640064    \n",
      "_________________________________________________________________\n",
      "dense_6 (Dense)              (None, 32)                2080      \n",
      "_________________________________________________________________\n",
      "dense_7 (Dense)              (None, 1)                 33        \n",
      "=================================================================\n",
      "Total params: 1,642,177\n",
      "Trainable params: 1,642,177\n",
      "Non-trainable params: 0\n",
      "_________________________________________________________________\n",
      "Train on 5862 samples, validate on 0 samples\n",
      "Epoch 1/5\n",
      "5862/5862 [==============================] - 2s 294us/step - loss: 0.2659 - acc: 0.9539\n",
      "Epoch 2/5\n",
      "5862/5862 [==============================] - 1s 233us/step - loss: 0.1017 - acc: 0.9459\n",
      "Epoch 3/5\n",
      "5862/5862 [==============================] - 1s 226us/step - loss: -0.1342 - acc: 0.9389\n",
      "Epoch 4/5\n",
      "5862/5862 [==============================] - 1s 229us/step - loss: -0.4056 - acc: 0.9521\n",
      "Epoch 5/5\n",
      "5862/5862 [==============================] - 1s 236us/step - loss: -0.5034 - acc: 0.9611\n"
     ]
    }
   ],
   "source": [
    "def build_model():\n",
    "    model = Sequential()\n",
    "    model.add(Embedding(max_words, 100, input_length=maxlen))\n",
    "    model.add(Flatten())\n",
    "    model.add(Dense(64, activation = \"relu\"))\n",
    "    model.add(Dense(32, activation = \"relu\"))\n",
    "    model.add(Dense(1, activation = \"sigmoid\"))\n",
    "    model.compile(optimizer = \"rmsprop\",\n",
    "              loss = \"binary_crossentropy\",\n",
    "              metrics = [\"acc\"])\n",
    "    return model\n",
    "\n",
    "model = build_model()\n",
    "model.summary()\n",
    "history = model.fit(x_train, y_train,\n",
    "                    epochs=5,\n",
    "                    batch_size=40,\n",
    "                    validation_data=(x_val, y_val))\n",
    "\n",
    "model.save(\"model1.h5\")"
   ]
  },
  {
   "cell_type": "code",
   "execution_count": 111,
   "metadata": {},
   "outputs": [
    {
     "name": "stdout",
     "output_type": "stream",
     "text": [
      "_________________________________________________________________\n",
      "Layer (type)                 Output Shape              Param #   \n",
      "=================================================================\n",
      "embedding_4 (Embedding)      (None, 100, 100)          1000000   \n",
      "_________________________________________________________________\n",
      "flatten_3 (Flatten)          (None, 10000)             0         \n",
      "_________________________________________________________________\n",
      "dense_8 (Dense)              (None, 64)                640064    \n",
      "_________________________________________________________________\n",
      "dense_9 (Dense)              (None, 32)                2080      \n",
      "_________________________________________________________________\n",
      "dense_10 (Dense)             (None, 1)                 33        \n",
      "=================================================================\n",
      "Total params: 1,642,177\n",
      "Trainable params: 1,642,177\n",
      "Non-trainable params: 0\n",
      "_________________________________________________________________\n",
      "Train on 5862 samples, validate on 0 samples\n",
      "Epoch 1/5\n",
      "5862/5862 [==============================] - 2s 285us/step - loss: 0.2708 - acc: 0.9521\n",
      "Epoch 2/5\n",
      "5862/5862 [==============================] - 1s 236us/step - loss: 0.1266 - acc: 0.9476\n",
      "Epoch 3/5\n",
      "5862/5862 [==============================] - 1s 226us/step - loss: -0.0620 - acc: 0.9422\n",
      "Epoch 4/5\n",
      "5862/5862 [==============================] - 1s 224us/step - loss: -0.3533 - acc: 0.9459\n",
      "Epoch 5/5\n",
      "5862/5862 [==============================] - 1s 237us/step - loss: -0.4730 - acc: 0.9565\n"
     ]
    }
   ],
   "source": [
    "model = build_model()\n",
    "model.summary()\n",
    "history = model.fit(x_train, y_train,\n",
    "                    epochs=5,\n",
    "                    batch_size=40,\n",
    "                    validation_data=(x_val, y_val))\n",
    "\n",
    "model.save(\"model1.h5\")"
   ]
  },
  {
   "cell_type": "code",
   "execution_count": 112,
   "metadata": {},
   "outputs": [
    {
     "ename": "KeyError",
     "evalue": "'val_acc'",
     "output_type": "error",
     "traceback": [
      "\u001b[0;31m---------------------------------------------------------------------------\u001b[0m",
      "\u001b[0;31mKeyError\u001b[0m                                  Traceback (most recent call last)",
      "\u001b[0;32m<ipython-input-112-4b03355ff4c0>\u001b[0m in \u001b[0;36m<module>\u001b[0;34m()\u001b[0m\n\u001b[1;32m      1\u001b[0m \u001b[0macc\u001b[0m \u001b[0;34m=\u001b[0m \u001b[0mhistory\u001b[0m\u001b[0;34m.\u001b[0m\u001b[0mhistory\u001b[0m\u001b[0;34m[\u001b[0m\u001b[0;34m\"acc\"\u001b[0m\u001b[0;34m]\u001b[0m\u001b[0;34m\u001b[0m\u001b[0m\n\u001b[0;32m----> 2\u001b[0;31m \u001b[0mval_acc\u001b[0m \u001b[0;34m=\u001b[0m \u001b[0mhistory\u001b[0m\u001b[0;34m.\u001b[0m\u001b[0mhistory\u001b[0m\u001b[0;34m[\u001b[0m\u001b[0;34m\"val_acc\"\u001b[0m\u001b[0;34m]\u001b[0m\u001b[0;34m\u001b[0m\u001b[0m\n\u001b[0m\u001b[1;32m      3\u001b[0m \u001b[0mloss\u001b[0m \u001b[0;34m=\u001b[0m \u001b[0mhistory\u001b[0m\u001b[0;34m.\u001b[0m\u001b[0mhistory\u001b[0m\u001b[0;34m[\u001b[0m\u001b[0;34m\"loss\"\u001b[0m\u001b[0;34m]\u001b[0m\u001b[0;34m\u001b[0m\u001b[0m\n\u001b[1;32m      4\u001b[0m \u001b[0mval_loss\u001b[0m \u001b[0;34m=\u001b[0m \u001b[0mhistory\u001b[0m\u001b[0;34m.\u001b[0m\u001b[0mhistory\u001b[0m\u001b[0;34m[\u001b[0m\u001b[0;34m\"val_loss\"\u001b[0m\u001b[0;34m]\u001b[0m\u001b[0;34m\u001b[0m\u001b[0m\n\u001b[1;32m      5\u001b[0m \u001b[0mepochs\u001b[0m \u001b[0;34m=\u001b[0m \u001b[0mrange\u001b[0m\u001b[0;34m(\u001b[0m\u001b[0;36m1\u001b[0m\u001b[0;34m,\u001b[0m \u001b[0mlen\u001b[0m\u001b[0;34m(\u001b[0m\u001b[0macc\u001b[0m\u001b[0;34m)\u001b[0m \u001b[0;34m+\u001b[0m \u001b[0;36m1\u001b[0m\u001b[0;34m)\u001b[0m\u001b[0;34m\u001b[0m\u001b[0m\n",
      "\u001b[0;31mKeyError\u001b[0m: 'val_acc'"
     ]
    }
   ],
   "source": [
    "acc = history.history[\"acc\"]\n",
    "val_acc = history.history[\"val_acc\"]\n",
    "loss = history.history[\"loss\"]\n",
    "val_loss = history.history[\"val_loss\"]\n",
    "epochs = range(1, len(acc) + 1)"
   ]
  },
  {
   "cell_type": "code",
   "execution_count": 113,
   "metadata": {},
   "outputs": [],
   "source": [
    "acc = history_RNN.history[\"acc\"]\n",
    "val_acc = history_RNN.history[\"val_acc\"]\n",
    "loss = history_RNN.history[\"loss\"]\n",
    "val_loss = history_RNN.history[\"val_loss\"]\n",
    "epochs = range(1, len(acc) + 1)"
   ]
  },
  {
   "cell_type": "code",
   "execution_count": 114,
   "metadata": {},
   "outputs": [
    {
     "data": {
      "text/plain": [
       "[]"
      ]
     },
     "execution_count": 114,
     "metadata": {},
     "output_type": "execute_result"
    }
   ],
   "source": [
    "model.evaluate(x_test, y_test)"
   ]
  },
  {
   "cell_type": "markdown",
   "metadata": {},
   "source": [
    "### RNN Model for Size"
   ]
  },
  {
   "cell_type": "code",
   "execution_count": 115,
   "metadata": {},
   "outputs": [
    {
     "name": "stdout",
     "output_type": "stream",
     "text": [
      "_________________________________________________________________\n",
      "Layer (type)                 Output Shape              Param #   \n",
      "=================================================================\n",
      "embedding_5 (Embedding)      (None, 100, 100)          1000000   \n",
      "_________________________________________________________________\n",
      "simple_rnn_2 (SimpleRNN)     (None, 32)                4256      \n",
      "_________________________________________________________________\n",
      "dense_11 (Dense)             (None, 1)                 33        \n",
      "=================================================================\n",
      "Total params: 1,004,289\n",
      "Trainable params: 1,004,289\n",
      "Non-trainable params: 0\n",
      "_________________________________________________________________\n",
      "Train on 5862 samples, validate on 0 samples\n",
      "Epoch 1/5\n",
      "5862/5862 [==============================] - 5s 825us/step - loss: 0.3029 - acc: 0.9451\n",
      "Epoch 2/5\n",
      "5862/5862 [==============================] - 4s 708us/step - loss: 0.2358 - acc: 0.9533\n",
      "Epoch 3/5\n",
      "5862/5862 [==============================] - 4s 731us/step - loss: 0.1012 - acc: 0.9498\n",
      "Epoch 4/5\n",
      "5862/5862 [==============================] - 4s 707us/step - loss: -0.0177 - acc: 0.9510\n",
      "Epoch 5/5\n",
      "5862/5862 [==============================] - 4s 695us/step - loss: -0.1293 - acc: 0.9562\n"
     ]
    }
   ],
   "source": [
    "######################## RNN ########################\n",
    "def build_RNN():\n",
    "    model = Sequential() \n",
    "    model.add(Embedding(max_words, 100, input_length = maxlen)) \n",
    "    #model.add(SimpleRNN(32, return_sequences=True))\n",
    "    model.add(SimpleRNN(32)) \n",
    "    model.add(Dense(1, activation = \"sigmoid\"))\n",
    "    model.compile(optimizer = \"rmsprop\", loss = \"binary_crossentropy\", metrics = [\"acc\"]) \n",
    "    return model\n",
    "\n",
    "model = build_RNN()\n",
    "model.summary()\n",
    "history_RNN = model.fit(x_train, y_train,\n",
    "                    epochs = 5,\n",
    "                    batch_size = 40,\n",
    "                    validation_data = (x_val, y_val))\n",
    "\n",
    "model.save(\"model_RNN.h5\")"
   ]
  },
  {
   "cell_type": "code",
   "execution_count": 119,
   "metadata": {},
   "outputs": [],
   "source": [
    "acc = history_RNN.history[\"acc\"]\n",
    "val_acc = history_RNN.history[\"val_acc\"]\n",
    "loss = history_RNN.history[\"loss\"]\n",
    "val_loss = history_RNN.history[\"val_loss\"]\n",
    "epochs = range(1, len(acc) + 1)"
   ]
  },
  {
   "cell_type": "code",
   "execution_count": 120,
   "metadata": {},
   "outputs": [
    {
     "data": {
      "text/plain": [
       "[]"
      ]
     },
     "execution_count": 120,
     "metadata": {},
     "output_type": "execute_result"
    }
   ],
   "source": [
    "model.evaluate(x_test, y_test)"
   ]
  },
  {
   "cell_type": "markdown",
   "metadata": {},
   "source": [
    "### END"
   ]
  }
 ],
 "metadata": {
  "kernelspec": {
   "display_name": "Python 3",
   "language": "python",
   "name": "python3"
  },
  "language_info": {
   "codemirror_mode": {
    "name": "ipython",
    "version": 3
   },
   "file_extension": ".py",
   "mimetype": "text/x-python",
   "name": "python",
   "nbconvert_exporter": "python",
   "pygments_lexer": "ipython3",
   "version": "3.6.5"
  }
 },
 "nbformat": 4,
 "nbformat_minor": 2
}
